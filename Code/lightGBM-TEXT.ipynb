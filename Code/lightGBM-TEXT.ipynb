{
 "cells": [
  {
   "cell_type": "code",
   "execution_count": 1,
   "metadata": {
    "collapsed": true
   },
   "outputs": [],
   "source": [
    "import time\n",
    "import pandas as pd\n",
    "import numpy as np\n",
    "import lightgbm as lgb\n",
    "import random\n",
    "import config\n",
    "import re\n",
    "import os\n",
    "import scipy.special as special\n",
    "\n",
    "from math import log\n",
    "from numba import jit\n",
    "from scipy.sparse import csr_matrix, hstack\n",
    "from sklearn.metrics import log_loss,roc_curve\n",
    "from sklearn.preprocessing import LabelEncoder,OneHotEncoder,StandardScaler\n",
    "from sklearn.feature_extraction.text import CountVectorizer,TfidfVectorizer\n",
    "from itertools import chain, combinations"
   ]
  },
  {
   "cell_type": "code",
   "execution_count": 2,
   "metadata": {
    "collapsed": true
   },
   "outputs": [],
   "source": [
    "def timestamp_datetime(value):\n",
    "    return time.strftime('%Y-%m-%d %H:%M:%S', time.localtime(value))\n",
    "\n",
    "def time_feat(df,featList,featName):\n",
    "    df[featName] = df.groupby(featList)['context_timestamp'].rank(method='first')   \n",
    "    return df\n",
    "\n",
    "def del_na(lst):\n",
    "    out = ''\n",
    "    if len(lst)<2:\n",
    "        return out        \n",
    "    for i in range(0,len(lst),2):\n",
    "        if not lst[i+1]=='-1':\n",
    "            out += lst[i]+':'+lst[i+1]+';'\n",
    "    try:  return out[:-1]\n",
    "    except: return out\n",
    "\n",
    "def ks_metric(true,score):\n",
    "    fpr, tpr, thresholds = roc_curve(true,score)\n",
    "    ks = max(tpr-fpr)\n",
    "    return ks \n",
    "\n",
    "def score_change(score,base_rate,real_rate):\n",
    "    base_change = np.log(base_rate/(1-base_rate)) - np.log(real_rate/(1-real_rate))\n",
    "    score_adj = np.exp(np.log(score/(1-score)) - base_change)/(np.exp(np.log(score/(1-score)) - base_change)+1)\n",
    "    return score_adj"
   ]
  },
  {
   "cell_type": "code",
   "execution_count": 3,
   "metadata": {
    "collapsed": true
   },
   "outputs": [],
   "source": [
    "def process(df):\n",
    "    df['time'] = df.context_timestamp.apply(timestamp_datetime)\n",
    "    df['day'] = df.time.apply(lambda x: int(x[8:10]))\n",
    "    df['hour'] = df.time.apply(lambda x: int(x[11:13]))\n",
    "    '''for lst in timeFeatList:\n",
    "        df = time_feat(df,lst,'_'.join(lst))'''\n",
    "    df['item_property_list'] = df['item_property_list'].apply(lambda x:';'.join(sorted(set(str(x).split(';')))))\n",
    "    df['predict_category_property'] = df['predict_category_property'].apply(lambda x:';'.join(sorted(set(str(x).split(';')))))\n",
    "    df['predict_category_property'] =df['predict_category_property'].apply(lambda x: list(re.split('[:;]',x)))\n",
    "    df['predict_category_property'] = df['predict_category_property'].map(del_na)\n",
    "    df['len_item_property_list'] = df['item_property_list'].apply(lambda x: len(str(x).split(';')))\n",
    "    df['len_predict_category_property'] = df['predict_category_property'].apply(lambda x: len(str(x).split(';')))\n",
    "    return df"
   ]
  },
  {
   "cell_type": "markdown",
   "metadata": {},
   "source": [
    "<font color=#0099ff size=5 face=\"黑体\">读取数据</font>"
   ]
  },
  {
   "cell_type": "code",
   "execution_count": 11,
   "metadata": {},
   "outputs": [
    {
     "data": {
      "text/plain": [
       "(539370, 32)"
      ]
     },
     "execution_count": 11,
     "metadata": {},
     "output_type": "execute_result"
    }
   ],
   "source": [
    "dfTrain = pd.read_table(config.TRAIN_FILE,sep=' ')\n",
    "dfTrain.drop_duplicates(inplace=True)\n",
    "dfTrain.reset_index(inplace=True,drop =True)\n",
    "dfTest = pd.read_table(config.TEST_FILE,sep=' ')\n",
    "\n",
    "dfTrain = process(dfTrain)\n",
    "dfTest = process(dfTest)\n",
    "\n",
    "dfSubmit = pd.read_table(config.TEST_FILE_NEW,sep=' ')\n",
    "idSubmit = dfSubmit['instance_id'].tolist()\n",
    "del dfSubmit\n",
    "\n",
    "dfAll = pd.concat([dfTrain,dfTest],axis=0)\n",
    "dfAll.reset_index(inplace=True,drop=True)\n",
    "trainNum = dfTrain.shape[0]\n",
    "\n",
    "dfAll.shape"
   ]
  },
  {
   "cell_type": "code",
   "execution_count": 12,
   "metadata": {},
   "outputs": [
    {
     "data": {
      "text/plain": [
       "(539370, 63890)"
      ]
     },
     "execution_count": 12,
     "metadata": {},
     "output_type": "execute_result"
    }
   ],
   "source": [
    "count = CountVectorizer(ngram_range=(1,1))\n",
    "sparse_merge = count.fit_transform(dfAll['item_property_list'])\n",
    "#sparse_merge = hstack((sparse_merge,count.fit_transform(dfAll['predict_category_property']))).tocsr()\n",
    "sparse_merge.shape"
   ]
  },
  {
   "cell_type": "code",
   "execution_count": 13,
   "metadata": {},
   "outputs": [
    {
     "data": {
      "text/plain": [
       "(539370, 37805)"
      ]
     },
     "execution_count": 13,
     "metadata": {},
     "output_type": "execute_result"
    }
   ],
   "source": [
    "cutoff = 5\n",
    "sparse_merge = sparse_merge[:, np.array(np.clip(sparse_merge[:trainNum,:].getnnz(axis=0) -cutoff, 0, 1), dtype=bool)]\n",
    "sparse_merge.shape"
   ]
  },
  {
   "cell_type": "code",
   "execution_count": 14,
   "metadata": {
    "collapsed": true
   },
   "outputs": [],
   "source": [
    "train_idx = dfTrain.loc[(dfTrain['day']<24)&(dfTrain['day']>18)].index\n",
    "valid_idx = dfTrain.loc[dfTrain['day']==24].index\n",
    "Xi_train_, y_train_ = sparse_merge[list(train_idx),:],dfTrain.loc[train_idx,'is_trade']\n",
    "Xi_valid_, y_valid_ = sparse_merge[list(valid_idx),:],dfTrain.loc[valid_idx,'is_trade']\n",
    "Xi_test_ = sparse_merge[trainNum:,:]\n",
    "features = range(sparse_merge.shape[1])"
   ]
  },
  {
   "cell_type": "code",
   "execution_count": 15,
   "metadata": {},
   "outputs": [
    {
     "data": {
      "text/plain": [
       "<342432x37805 sparse matrix of type '<class 'numpy.int64'>'\n",
       "\twith 11704887 stored elements in Compressed Sparse Row format>"
      ]
     },
     "execution_count": 15,
     "metadata": {},
     "output_type": "execute_result"
    }
   ],
   "source": [
    "Xi_train_"
   ]
  },
  {
   "cell_type": "code",
   "execution_count": 16,
   "metadata": {
    "collapsed": true
   },
   "outputs": [],
   "source": [
    "Xi_train_ = Xi_train_.astype(float)\n",
    "Xi_valid_ = Xi_valid_.astype(float)"
   ]
  },
  {
   "cell_type": "code",
   "execution_count": 17,
   "metadata": {
    "scrolled": true
   },
   "outputs": [
    {
     "name": "stderr",
     "output_type": "stream",
     "text": [
      "C:\\Users\\Leo Mao\\Anaconda3\\lib\\site-packages\\lightgbm\\basic.py:1029: UserWarning: categorical_feature in Dataset is overrided. New categorical_feature is []\n",
      "  warnings.warn('categorical_feature in Dataset is overrided. New categorical_feature is {}'.format(sorted(list(categorical_feature))))\n"
     ]
    },
    {
     "name": "stdout",
     "output_type": "stream",
     "text": [
      "[1]\tvalid_0's binary_logloss: 0.64775\n",
      "Training until validation scores don't improve for 100 rounds.\n",
      "[2]\tvalid_0's binary_logloss: 0.606674\n",
      "[3]\tvalid_0's binary_logloss: 0.569328\n",
      "[4]\tvalid_0's binary_logloss: 0.535257\n",
      "[5]\tvalid_0's binary_logloss: 0.504079\n",
      "[6]\tvalid_0's binary_logloss: 0.475443\n",
      "[7]\tvalid_0's binary_logloss: 0.449097\n",
      "[8]\tvalid_0's binary_logloss: 0.424776\n",
      "[9]\tvalid_0's binary_logloss: 0.402315\n",
      "[10]\tvalid_0's binary_logloss: 0.381503\n",
      "[11]\tvalid_0's binary_logloss: 0.362212\n",
      "[12]\tvalid_0's binary_logloss: 0.344286\n",
      "[13]\tvalid_0's binary_logloss: 0.327612\n",
      "[14]\tvalid_0's binary_logloss: 0.312076\n",
      "[15]\tvalid_0's binary_logloss: 0.2976\n",
      "[16]\tvalid_0's binary_logloss: 0.2841\n",
      "[17]\tvalid_0's binary_logloss: 0.271487\n",
      "[18]\tvalid_0's binary_logloss: 0.259705\n",
      "[19]\tvalid_0's binary_logloss: 0.248675\n",
      "[20]\tvalid_0's binary_logloss: 0.238354\n",
      "[21]\tvalid_0's binary_logloss: 0.228687\n",
      "[22]\tvalid_0's binary_logloss: 0.219634\n",
      "[23]\tvalid_0's binary_logloss: 0.211154\n",
      "[24]\tvalid_0's binary_logloss: 0.203199\n",
      "[25]\tvalid_0's binary_logloss: 0.195736\n",
      "[26]\tvalid_0's binary_logloss: 0.18873\n",
      "[27]\tvalid_0's binary_logloss: 0.182161\n",
      "[28]\tvalid_0's binary_logloss: 0.175993\n",
      "[29]\tvalid_0's binary_logloss: 0.1702\n",
      "[30]\tvalid_0's binary_logloss: 0.164756\n",
      "[31]\tvalid_0's binary_logloss: 0.159654\n",
      "[32]\tvalid_0's binary_logloss: 0.154851\n",
      "[33]\tvalid_0's binary_logloss: 0.150341\n",
      "[34]\tvalid_0's binary_logloss: 0.146099\n",
      "[35]\tvalid_0's binary_logloss: 0.142114\n",
      "[36]\tvalid_0's binary_logloss: 0.138375\n",
      "[37]\tvalid_0's binary_logloss: 0.134863\n",
      "[38]\tvalid_0's binary_logloss: 0.131561\n",
      "[39]\tvalid_0's binary_logloss: 0.128457\n",
      "[40]\tvalid_0's binary_logloss: 0.125546\n",
      "[41]\tvalid_0's binary_logloss: 0.122821\n",
      "[42]\tvalid_0's binary_logloss: 0.12025\n",
      "[43]\tvalid_0's binary_logloss: 0.117842\n",
      "[44]\tvalid_0's binary_logloss: 0.115581\n",
      "[45]\tvalid_0's binary_logloss: 0.113449\n",
      "[46]\tvalid_0's binary_logloss: 0.111466\n",
      "[47]\tvalid_0's binary_logloss: 0.10959\n",
      "[48]\tvalid_0's binary_logloss: 0.107834\n",
      "[49]\tvalid_0's binary_logloss: 0.10619\n",
      "[50]\tvalid_0's binary_logloss: 0.10466\n",
      "[51]\tvalid_0's binary_logloss: 0.103219\n",
      "[52]\tvalid_0's binary_logloss: 0.101865\n",
      "[53]\tvalid_0's binary_logloss: 0.100608\n",
      "[54]\tvalid_0's binary_logloss: 0.0994232\n",
      "[55]\tvalid_0's binary_logloss: 0.0983154\n",
      "[56]\tvalid_0's binary_logloss: 0.0972696\n",
      "[57]\tvalid_0's binary_logloss: 0.0962929\n",
      "[58]\tvalid_0's binary_logloss: 0.0953811\n",
      "[59]\tvalid_0's binary_logloss: 0.0945363\n",
      "[60]\tvalid_0's binary_logloss: 0.0937516\n",
      "[61]\tvalid_0's binary_logloss: 0.093006\n",
      "[62]\tvalid_0's binary_logloss: 0.0923156\n",
      "[63]\tvalid_0's binary_logloss: 0.0916689\n",
      "[64]\tvalid_0's binary_logloss: 0.0910638\n",
      "[65]\tvalid_0's binary_logloss: 0.0904899\n",
      "[66]\tvalid_0's binary_logloss: 0.0899786\n",
      "[67]\tvalid_0's binary_logloss: 0.0894947\n",
      "[68]\tvalid_0's binary_logloss: 0.0890332\n",
      "[69]\tvalid_0's binary_logloss: 0.0886063\n",
      "[70]\tvalid_0's binary_logloss: 0.0882045\n",
      "[71]\tvalid_0's binary_logloss: 0.087837\n",
      "[72]\tvalid_0's binary_logloss: 0.0874914\n",
      "[73]\tvalid_0's binary_logloss: 0.0871803\n",
      "[74]\tvalid_0's binary_logloss: 0.0868893\n",
      "[75]\tvalid_0's binary_logloss: 0.0866201\n",
      "[76]\tvalid_0's binary_logloss: 0.0863551\n",
      "[77]\tvalid_0's binary_logloss: 0.0861071\n",
      "[78]\tvalid_0's binary_logloss: 0.0858926\n",
      "[79]\tvalid_0's binary_logloss: 0.0856957\n",
      "[80]\tvalid_0's binary_logloss: 0.0855097\n",
      "[81]\tvalid_0's binary_logloss: 0.0853336\n",
      "[82]\tvalid_0's binary_logloss: 0.0851651\n",
      "[83]\tvalid_0's binary_logloss: 0.0850231\n",
      "[84]\tvalid_0's binary_logloss: 0.084873\n",
      "[85]\tvalid_0's binary_logloss: 0.0847399\n",
      "[86]\tvalid_0's binary_logloss: 0.084607\n",
      "[87]\tvalid_0's binary_logloss: 0.0844964\n",
      "[88]\tvalid_0's binary_logloss: 0.0843826\n",
      "[89]\tvalid_0's binary_logloss: 0.0842913\n",
      "[90]\tvalid_0's binary_logloss: 0.0841977\n",
      "[91]\tvalid_0's binary_logloss: 0.0841084\n",
      "[92]\tvalid_0's binary_logloss: 0.0840217\n",
      "[93]\tvalid_0's binary_logloss: 0.0839395\n",
      "[94]\tvalid_0's binary_logloss: 0.0838698\n",
      "[95]\tvalid_0's binary_logloss: 0.0838045\n",
      "[96]\tvalid_0's binary_logloss: 0.0837454\n",
      "[97]\tvalid_0's binary_logloss: 0.0836783\n",
      "[98]\tvalid_0's binary_logloss: 0.0836273\n",
      "[99]\tvalid_0's binary_logloss: 0.0835728\n",
      "[100]\tvalid_0's binary_logloss: 0.0835133\n",
      "[101]\tvalid_0's binary_logloss: 0.0834613\n",
      "[102]\tvalid_0's binary_logloss: 0.0834057\n",
      "[103]\tvalid_0's binary_logloss: 0.0833693\n",
      "[104]\tvalid_0's binary_logloss: 0.0833409\n",
      "[105]\tvalid_0's binary_logloss: 0.083313\n",
      "[106]\tvalid_0's binary_logloss: 0.0832838\n",
      "[107]\tvalid_0's binary_logloss: 0.0832618\n",
      "[108]\tvalid_0's binary_logloss: 0.0832293\n",
      "[109]\tvalid_0's binary_logloss: 0.0832071\n",
      "[110]\tvalid_0's binary_logloss: 0.0831848\n",
      "[111]\tvalid_0's binary_logloss: 0.0831608\n",
      "[112]\tvalid_0's binary_logloss: 0.0831351\n",
      "[113]\tvalid_0's binary_logloss: 0.0831201\n",
      "[114]\tvalid_0's binary_logloss: 0.0831016\n",
      "[115]\tvalid_0's binary_logloss: 0.0830843\n",
      "[116]\tvalid_0's binary_logloss: 0.083072\n",
      "[117]\tvalid_0's binary_logloss: 0.0830538\n",
      "[118]\tvalid_0's binary_logloss: 0.0830467\n",
      "[119]\tvalid_0's binary_logloss: 0.0830301\n",
      "[120]\tvalid_0's binary_logloss: 0.0830221\n",
      "[121]\tvalid_0's binary_logloss: 0.0830131\n",
      "[122]\tvalid_0's binary_logloss: 0.0829986\n",
      "[123]\tvalid_0's binary_logloss: 0.0829953\n",
      "[124]\tvalid_0's binary_logloss: 0.0829846\n",
      "[125]\tvalid_0's binary_logloss: 0.0829714\n",
      "[126]\tvalid_0's binary_logloss: 0.0829577\n",
      "[127]\tvalid_0's binary_logloss: 0.0829482\n",
      "[128]\tvalid_0's binary_logloss: 0.082938\n",
      "[129]\tvalid_0's binary_logloss: 0.0829312\n",
      "[130]\tvalid_0's binary_logloss: 0.0829326\n",
      "[131]\tvalid_0's binary_logloss: 0.0829276\n",
      "[132]\tvalid_0's binary_logloss: 0.082918\n",
      "[133]\tvalid_0's binary_logloss: 0.0829124\n",
      "[134]\tvalid_0's binary_logloss: 0.0829029\n",
      "[135]\tvalid_0's binary_logloss: 0.0828958\n",
      "[136]\tvalid_0's binary_logloss: 0.0828985\n",
      "[137]\tvalid_0's binary_logloss: 0.082897\n",
      "[138]\tvalid_0's binary_logloss: 0.0828847\n",
      "[139]\tvalid_0's binary_logloss: 0.0828769\n",
      "[140]\tvalid_0's binary_logloss: 0.082874\n",
      "[141]\tvalid_0's binary_logloss: 0.0828674\n",
      "[142]\tvalid_0's binary_logloss: 0.082862\n",
      "[143]\tvalid_0's binary_logloss: 0.0828607\n",
      "[144]\tvalid_0's binary_logloss: 0.0828582\n",
      "[145]\tvalid_0's binary_logloss: 0.0828551\n",
      "[146]\tvalid_0's binary_logloss: 0.0828526\n",
      "[147]\tvalid_0's binary_logloss: 0.0828529\n",
      "[148]\tvalid_0's binary_logloss: 0.0828405\n",
      "[149]\tvalid_0's binary_logloss: 0.0828291\n",
      "[150]\tvalid_0's binary_logloss: 0.0828246\n",
      "[151]\tvalid_0's binary_logloss: 0.0828117\n",
      "[152]\tvalid_0's binary_logloss: 0.0828013\n",
      "[153]\tvalid_0's binary_logloss: 0.0827958\n",
      "[154]\tvalid_0's binary_logloss: 0.0827924\n",
      "[155]\tvalid_0's binary_logloss: 0.0827946\n",
      "[156]\tvalid_0's binary_logloss: 0.0827949\n",
      "[157]\tvalid_0's binary_logloss: 0.0827944\n",
      "[158]\tvalid_0's binary_logloss: 0.0827914\n",
      "[159]\tvalid_0's binary_logloss: 0.0827945\n",
      "[160]\tvalid_0's binary_logloss: 0.082791\n",
      "[161]\tvalid_0's binary_logloss: 0.0827815\n",
      "[162]\tvalid_0's binary_logloss: 0.0827814\n",
      "[163]\tvalid_0's binary_logloss: 0.0827822\n",
      "[164]\tvalid_0's binary_logloss: 0.0827819\n",
      "[165]\tvalid_0's binary_logloss: 0.0827822\n",
      "[166]\tvalid_0's binary_logloss: 0.0827813\n",
      "[167]\tvalid_0's binary_logloss: 0.0827817\n",
      "[168]\tvalid_0's binary_logloss: 0.0827777\n",
      "[169]\tvalid_0's binary_logloss: 0.0827751\n",
      "[170]\tvalid_0's binary_logloss: 0.0827711\n",
      "[171]\tvalid_0's binary_logloss: 0.0827635\n",
      "[172]\tvalid_0's binary_logloss: 0.0827663\n",
      "[173]\tvalid_0's binary_logloss: 0.0827618\n",
      "[174]\tvalid_0's binary_logloss: 0.0827648\n",
      "[175]\tvalid_0's binary_logloss: 0.0827642\n",
      "[176]\tvalid_0's binary_logloss: 0.0827669\n",
      "[177]\tvalid_0's binary_logloss: 0.0827632\n",
      "[178]\tvalid_0's binary_logloss: 0.082758\n",
      "[179]\tvalid_0's binary_logloss: 0.0827499\n",
      "[180]\tvalid_0's binary_logloss: 0.0827423\n",
      "[181]\tvalid_0's binary_logloss: 0.0827394\n",
      "[182]\tvalid_0's binary_logloss: 0.0827399\n",
      "[183]\tvalid_0's binary_logloss: 0.0827354\n",
      "[184]\tvalid_0's binary_logloss: 0.0827324\n",
      "[185]\tvalid_0's binary_logloss: 0.0827359\n",
      "[186]\tvalid_0's binary_logloss: 0.0827382\n",
      "[187]\tvalid_0's binary_logloss: 0.0827384\n",
      "[188]\tvalid_0's binary_logloss: 0.0827257\n",
      "[189]\tvalid_0's binary_logloss: 0.0827256\n",
      "[190]\tvalid_0's binary_logloss: 0.0827247\n",
      "[191]\tvalid_0's binary_logloss: 0.0827212\n",
      "[192]\tvalid_0's binary_logloss: 0.0827295\n",
      "[193]\tvalid_0's binary_logloss: 0.082731\n",
      "[194]\tvalid_0's binary_logloss: 0.0827266\n",
      "[195]\tvalid_0's binary_logloss: 0.0827296\n",
      "[196]\tvalid_0's binary_logloss: 0.0827296\n",
      "[197]\tvalid_0's binary_logloss: 0.0827319\n",
      "[198]\tvalid_0's binary_logloss: 0.0827323\n",
      "[199]\tvalid_0's binary_logloss: 0.0827319\n"
     ]
    },
    {
     "name": "stdout",
     "output_type": "stream",
     "text": [
      "[200]\tvalid_0's binary_logloss: 0.0827287\n",
      "[201]\tvalid_0's binary_logloss: 0.0827244\n",
      "[202]\tvalid_0's binary_logloss: 0.0827269\n",
      "[203]\tvalid_0's binary_logloss: 0.08273\n",
      "[204]\tvalid_0's binary_logloss: 0.0827279\n",
      "[205]\tvalid_0's binary_logloss: 0.0827289\n",
      "[206]\tvalid_0's binary_logloss: 0.0827256\n",
      "[207]\tvalid_0's binary_logloss: 0.0827333\n",
      "[208]\tvalid_0's binary_logloss: 0.0827262\n",
      "[209]\tvalid_0's binary_logloss: 0.0827236\n",
      "[210]\tvalid_0's binary_logloss: 0.0827185\n",
      "[211]\tvalid_0's binary_logloss: 0.0827213\n",
      "[212]\tvalid_0's binary_logloss: 0.0827235\n",
      "[213]\tvalid_0's binary_logloss: 0.0827188\n",
      "[214]\tvalid_0's binary_logloss: 0.0827153\n",
      "[215]\tvalid_0's binary_logloss: 0.0827123\n",
      "[216]\tvalid_0's binary_logloss: 0.0827065\n",
      "[217]\tvalid_0's binary_logloss: 0.0827028\n",
      "[218]\tvalid_0's binary_logloss: 0.082701\n",
      "[219]\tvalid_0's binary_logloss: 0.082703\n",
      "[220]\tvalid_0's binary_logloss: 0.0827007\n",
      "[221]\tvalid_0's binary_logloss: 0.0827025\n",
      "[222]\tvalid_0's binary_logloss: 0.082702\n",
      "[223]\tvalid_0's binary_logloss: 0.0827036\n",
      "[224]\tvalid_0's binary_logloss: 0.0827025\n",
      "[225]\tvalid_0's binary_logloss: 0.0827046\n",
      "[226]\tvalid_0's binary_logloss: 0.0827037\n",
      "[227]\tvalid_0's binary_logloss: 0.0827023\n",
      "[228]\tvalid_0's binary_logloss: 0.0826992\n",
      "[229]\tvalid_0's binary_logloss: 0.082697\n",
      "[230]\tvalid_0's binary_logloss: 0.0826994\n",
      "[231]\tvalid_0's binary_logloss: 0.0826978\n",
      "[232]\tvalid_0's binary_logloss: 0.0826958\n",
      "[233]\tvalid_0's binary_logloss: 0.0826988\n",
      "[234]\tvalid_0's binary_logloss: 0.0826986\n",
      "[235]\tvalid_0's binary_logloss: 0.0826983\n",
      "[236]\tvalid_0's binary_logloss: 0.0827025\n",
      "[237]\tvalid_0's binary_logloss: 0.0827027\n",
      "[238]\tvalid_0's binary_logloss: 0.0827014\n",
      "[239]\tvalid_0's binary_logloss: 0.0826951\n",
      "[240]\tvalid_0's binary_logloss: 0.0826945\n",
      "[241]\tvalid_0's binary_logloss: 0.0826973\n",
      "[242]\tvalid_0's binary_logloss: 0.0826972\n",
      "[243]\tvalid_0's binary_logloss: 0.082695\n",
      "[244]\tvalid_0's binary_logloss: 0.0826946\n",
      "[245]\tvalid_0's binary_logloss: 0.0826915\n",
      "[246]\tvalid_0's binary_logloss: 0.0826943\n",
      "[247]\tvalid_0's binary_logloss: 0.0826924\n",
      "[248]\tvalid_0's binary_logloss: 0.0826823\n",
      "[249]\tvalid_0's binary_logloss: 0.0826834\n",
      "[250]\tvalid_0's binary_logloss: 0.0826816\n",
      "[251]\tvalid_0's binary_logloss: 0.0826747\n",
      "[252]\tvalid_0's binary_logloss: 0.0826728\n",
      "[253]\tvalid_0's binary_logloss: 0.0826697\n",
      "[254]\tvalid_0's binary_logloss: 0.082666\n",
      "[255]\tvalid_0's binary_logloss: 0.0826676\n",
      "[256]\tvalid_0's binary_logloss: 0.0826666\n",
      "[257]\tvalid_0's binary_logloss: 0.0826669\n",
      "[258]\tvalid_0's binary_logloss: 0.0826642\n",
      "[259]\tvalid_0's binary_logloss: 0.0826643\n",
      "[260]\tvalid_0's binary_logloss: 0.0826624\n",
      "[261]\tvalid_0's binary_logloss: 0.0826616\n",
      "[262]\tvalid_0's binary_logloss: 0.0826623\n",
      "[263]\tvalid_0's binary_logloss: 0.0826654\n",
      "[264]\tvalid_0's binary_logloss: 0.082677\n",
      "[265]\tvalid_0's binary_logloss: 0.0826775\n",
      "[266]\tvalid_0's binary_logloss: 0.0826762\n",
      "[267]\tvalid_0's binary_logloss: 0.0826734\n",
      "[268]\tvalid_0's binary_logloss: 0.082676\n",
      "[269]\tvalid_0's binary_logloss: 0.0826797\n",
      "[270]\tvalid_0's binary_logloss: 0.08268\n",
      "[271]\tvalid_0's binary_logloss: 0.0826829\n",
      "[272]\tvalid_0's binary_logloss: 0.0826798\n",
      "[273]\tvalid_0's binary_logloss: 0.0826737\n",
      "[274]\tvalid_0's binary_logloss: 0.0826705\n",
      "[275]\tvalid_0's binary_logloss: 0.0826725\n",
      "[276]\tvalid_0's binary_logloss: 0.0826733\n",
      "[277]\tvalid_0's binary_logloss: 0.0826764\n",
      "[278]\tvalid_0's binary_logloss: 0.0826775\n",
      "[279]\tvalid_0's binary_logloss: 0.0826854\n",
      "[280]\tvalid_0's binary_logloss: 0.0826878\n",
      "[281]\tvalid_0's binary_logloss: 0.0826882\n",
      "[282]\tvalid_0's binary_logloss: 0.0826889\n",
      "[283]\tvalid_0's binary_logloss: 0.0826883\n",
      "[284]\tvalid_0's binary_logloss: 0.0826853\n",
      "[285]\tvalid_0's binary_logloss: 0.0826846\n",
      "[286]\tvalid_0's binary_logloss: 0.082685\n",
      "[287]\tvalid_0's binary_logloss: 0.0826857\n",
      "[288]\tvalid_0's binary_logloss: 0.0826828\n",
      "[289]\tvalid_0's binary_logloss: 0.0826804\n",
      "[290]\tvalid_0's binary_logloss: 0.0826791\n",
      "[291]\tvalid_0's binary_logloss: 0.082678\n",
      "[292]\tvalid_0's binary_logloss: 0.0826815\n",
      "[293]\tvalid_0's binary_logloss: 0.0826829\n",
      "[294]\tvalid_0's binary_logloss: 0.0826812\n",
      "[295]\tvalid_0's binary_logloss: 0.0826841\n",
      "[296]\tvalid_0's binary_logloss: 0.0826836\n",
      "[297]\tvalid_0's binary_logloss: 0.0826831\n",
      "[298]\tvalid_0's binary_logloss: 0.082684\n",
      "[299]\tvalid_0's binary_logloss: 0.0826834\n",
      "[300]\tvalid_0's binary_logloss: 0.0826835\n",
      "[301]\tvalid_0's binary_logloss: 0.0826857\n",
      "[302]\tvalid_0's binary_logloss: 0.0826863\n",
      "[303]\tvalid_0's binary_logloss: 0.0826888\n",
      "[304]\tvalid_0's binary_logloss: 0.0826879\n",
      "[305]\tvalid_0's binary_logloss: 0.0826921\n",
      "[306]\tvalid_0's binary_logloss: 0.0826902\n",
      "[307]\tvalid_0's binary_logloss: 0.0826874\n",
      "[308]\tvalid_0's binary_logloss: 0.0826887\n",
      "[309]\tvalid_0's binary_logloss: 0.0826888\n",
      "[310]\tvalid_0's binary_logloss: 0.0826901\n",
      "[311]\tvalid_0's binary_logloss: 0.0826902\n",
      "[312]\tvalid_0's binary_logloss: 0.0826877\n",
      "[313]\tvalid_0's binary_logloss: 0.0826909\n",
      "[314]\tvalid_0's binary_logloss: 0.0826937\n",
      "[315]\tvalid_0's binary_logloss: 0.0826925\n",
      "[316]\tvalid_0's binary_logloss: 0.0826918\n",
      "[317]\tvalid_0's binary_logloss: 0.0826969\n",
      "[318]\tvalid_0's binary_logloss: 0.0826965\n",
      "[319]\tvalid_0's binary_logloss: 0.0827009\n",
      "[320]\tvalid_0's binary_logloss: 0.0827016\n",
      "[321]\tvalid_0's binary_logloss: 0.0827045\n",
      "[322]\tvalid_0's binary_logloss: 0.0827025\n",
      "[323]\tvalid_0's binary_logloss: 0.0826966\n",
      "[324]\tvalid_0's binary_logloss: 0.082705\n",
      "[325]\tvalid_0's binary_logloss: 0.0827024\n",
      "[326]\tvalid_0's binary_logloss: 0.0827026\n",
      "[327]\tvalid_0's binary_logloss: 0.0827017\n",
      "[328]\tvalid_0's binary_logloss: 0.0827024\n",
      "[329]\tvalid_0's binary_logloss: 0.0827011\n",
      "[330]\tvalid_0's binary_logloss: 0.0827004\n",
      "[331]\tvalid_0's binary_logloss: 0.082702\n",
      "[332]\tvalid_0's binary_logloss: 0.0827011\n",
      "[333]\tvalid_0's binary_logloss: 0.082699\n",
      "[334]\tvalid_0's binary_logloss: 0.0827053\n",
      "[335]\tvalid_0's binary_logloss: 0.0827103\n",
      "[336]\tvalid_0's binary_logloss: 0.0827138\n",
      "[337]\tvalid_0's binary_logloss: 0.0827134\n",
      "[338]\tvalid_0's binary_logloss: 0.0827127\n",
      "[339]\tvalid_0's binary_logloss: 0.0827092\n",
      "[340]\tvalid_0's binary_logloss: 0.0827071\n",
      "[341]\tvalid_0's binary_logloss: 0.0827066\n",
      "[342]\tvalid_0's binary_logloss: 0.0827076\n",
      "[343]\tvalid_0's binary_logloss: 0.0827069\n",
      "[344]\tvalid_0's binary_logloss: 0.0827064\n",
      "[345]\tvalid_0's binary_logloss: 0.0827072\n",
      "[346]\tvalid_0's binary_logloss: 0.0827086\n",
      "[347]\tvalid_0's binary_logloss: 0.0827125\n",
      "[348]\tvalid_0's binary_logloss: 0.0827106\n",
      "[349]\tvalid_0's binary_logloss: 0.0827129\n",
      "[350]\tvalid_0's binary_logloss: 0.082713\n",
      "[351]\tvalid_0's binary_logloss: 0.0827164\n",
      "[352]\tvalid_0's binary_logloss: 0.0827143\n",
      "[353]\tvalid_0's binary_logloss: 0.0827156\n",
      "[354]\tvalid_0's binary_logloss: 0.0827142\n",
      "[355]\tvalid_0's binary_logloss: 0.0827138\n",
      "[356]\tvalid_0's binary_logloss: 0.0827152\n",
      "[357]\tvalid_0's binary_logloss: 0.0827145\n",
      "[358]\tvalid_0's binary_logloss: 0.082713\n",
      "[359]\tvalid_0's binary_logloss: 0.0827109\n",
      "[360]\tvalid_0's binary_logloss: 0.0827115\n",
      "[361]\tvalid_0's binary_logloss: 0.0827124\n",
      "Early stopping, best iteration is:\n",
      "[261]\tvalid_0's binary_logloss: 0.0826616\n",
      "       index    0\n",
      "0       1165  242\n",
      "1         70  113\n",
      "2       4660  107\n",
      "3       7505   92\n",
      "4      24991   80\n",
      "5       3598   79\n",
      "6       4763   77\n",
      "7      17622   75\n",
      "8      18782   74\n",
      "9      28225   71\n",
      "10      3514   71\n",
      "11     16490   67\n",
      "12      4937   66\n",
      "13     18716   60\n",
      "14     30354   60\n",
      "15     13010   59\n",
      "16     28813   58\n",
      "17     37076   56\n",
      "18      2215   55\n",
      "19      9802   54\n",
      "20     11879   54\n",
      "21     35624   54\n",
      "22     11278   53\n",
      "23      8511   53\n",
      "24      4766   50\n",
      "25     13952   50\n",
      "26     13645   49\n",
      "27     23624   49\n",
      "28     23060   48\n",
      "29     11854   47\n",
      "...      ...  ...\n",
      "37775  25006    0\n",
      "37776  25005    0\n",
      "37777  25004    0\n",
      "37778  25002    0\n",
      "37779  25011    0\n",
      "37780  25001    0\n",
      "37781  25000    0\n",
      "37782  24999    0\n",
      "37783  24998    0\n",
      "37784  24997    0\n",
      "37785  24996    0\n",
      "37786  25010    0\n",
      "37787  25012    0\n",
      "37788  25029    0\n",
      "37789  25022    0\n",
      "37790  25028    0\n",
      "37791  25027    0\n",
      "37792  25026    0\n",
      "37793  25025    0\n",
      "37794  25024    0\n",
      "37795  25023    0\n",
      "37796  25021    0\n",
      "37797  25013    0\n",
      "37798  25019    0\n",
      "37799  25018    0\n",
      "37800  25017    0\n",
      "37801  25016    0\n",
      "37802  25015    0\n",
      "37803  25014    0\n",
      "37804      0    0\n",
      "\n",
      "[37805 rows x 2 columns]\n",
      "0.0826615621229\n",
      "0.234916513553\n"
     ]
    }
   ],
   "source": [
    "clf = lgb.LGBMClassifier(\n",
    "    boosting_type = 'gbdt',\n",
    "    num_leaves=40, \n",
    "    max_depth=8,\n",
    "    n_estimators=20000,\n",
    "    n_jobs=20,\n",
    "    learning_rate=0.05,\n",
    "    colsample_bytree=0.8,\n",
    "    subsample=0.9,\n",
    "    max_bin=20\n",
    ")\n",
    "clf.fit(Xi_train_, y_train_, eval_set=[(Xi_valid_, y_valid_)],\n",
    "        categorical_feature=[],early_stopping_rounds=100)\n",
    "#[i for i in ['item_category_list_bin1','item_category_list_bin2'] if i in features]\n",
    "y_score_ = clf.predict_proba(Xi_valid_,)[:, 1]\n",
    "\n",
    "print(pd.Series(clf.feature_importances_, features).sort_values(ascending=False).reset_index())\n",
    "print(log_loss(y_valid_, y_score_))\n",
    "print(ks_metric(y_valid_, y_score_))\n",
    "bstIter = clf.best_iteration_"
   ]
  },
  {
   "cell_type": "code",
   "execution_count": null,
   "metadata": {
    "collapsed": true
   },
   "outputs": [],
   "source": [
    "##\n",
    "0.0827499242483\n",
    "0.237778550462"
   ]
  },
  {
   "cell_type": "code",
   "execution_count": null,
   "metadata": {
    "collapsed": true
   },
   "outputs": [],
   "source": [
    "tt = ';'.join(dfAll.loc[dfAll['predict_category_property']!='','predict_category_property'].tolist())"
   ]
  },
  {
   "cell_type": "code",
   "execution_count": null,
   "metadata": {
    "collapsed": true
   },
   "outputs": [],
   "source": [
    "cate = set(re.split('[:;]',tt)[::2])"
   ]
  },
  {
   "cell_type": "code",
   "execution_count": null,
   "metadata": {
    "collapsed": true
   },
   "outputs": [],
   "source": [
    "tmp = set(','.join(list(cate)).split(','))"
   ]
  },
  {
   "cell_type": "code",
   "execution_count": null,
   "metadata": {},
   "outputs": [],
   "source": [
    "len(tmp)"
   ]
  },
  {
   "cell_type": "code",
   "execution_count": null,
   "metadata": {},
   "outputs": [],
   "source": [
    "cate&tmp"
   ]
  },
  {
   "cell_type": "code",
   "execution_count": null,
   "metadata": {
    "collapsed": true
   },
   "outputs": [],
   "source": []
  },
  {
   "cell_type": "code",
   "execution_count": null,
   "metadata": {
    "collapsed": true
   },
   "outputs": [],
   "source": []
  },
  {
   "cell_type": "markdown",
   "metadata": {},
   "source": [
    "<font color=#0099ff size=5 face=\"黑体\">特征工程</font>"
   ]
  },
  {
   "cell_type": "code",
   "execution_count": null,
   "metadata": {},
   "outputs": [],
   "source": [
    "###单特征map\n",
    "dfAll = map_col(dfAll,True)\n",
    "print(dfAll.shape)\n",
    "featBase = [i for i in dfAll.columns.tolist() if not i in config.IGNORE_COLS]"
   ]
  },
  {
   "cell_type": "code",
   "execution_count": null,
   "metadata": {},
   "outputs": [],
   "source": [
    "###平滑后CTR\n",
    "#keyList = ['item_id']\n",
    "keyList = config.CATEGORICAL_COLS\n",
    "\n",
    "if os.path.exists('../../Data/advertisment/Cache/smooth_new.csv'):\n",
    "    dfSmooth = pd.read_csv('../../Data/advertisment/Cache/smooth_new.csv')\n",
    "    dfAll = pd.concat([dfAll,dfSmooth],axis=1)\n",
    "    del dfSmooth\n",
    "else:\n",
    "    dfAll = smooth_ctr(dfAll,keyList)\n",
    "    '''toSave = dfAll.iloc[:,49:]\n",
    "    toSave.head()\n",
    "    toSave.to_csv('../../Data/advertisment/Cache/smooth_new.csv',index=False)'''\n",
    "\n",
    "print(dfAll.shape)"
   ]
  },
  {
   "cell_type": "code",
   "execution_count": null,
   "metadata": {},
   "outputs": [],
   "source": [
    "###线下特征集合\n",
    "dfAll['feat_set'] = dfAll['day'] + 1\n",
    "keyList = ['user_id','shop_id','item_id','hour','item_category_list_bin1']\n",
    "partList = [\n",
    "    ['item_id','shop_id'],\n",
    "    ['user_id','item_id'],\n",
    "    ['user_id','shop_id'],\n",
    "    ['user_id','item_id','shop_id'],\n",
    "    ['user_id','item_id','shop_id']\n",
    "]\n",
    "meanList = [\n",
    "    ['shop_id'],\n",
    "    ['item_id'],\n",
    "    [],\n",
    "    ['user_id','shop_id','item_id'],\n",
    "    ['user_id','shop_id','item_id']\n",
    "]\n",
    "for i in range(len(keyList)):\n",
    "    keyVar = keyList[i]\n",
    "    partVar = partList[i]\n",
    "    meanVar = meanList[i]\n",
    "    statVar = []\n",
    "    if isinstance(keyVar,str):\n",
    "        for key,value in config.STAT_DICT.items():\n",
    "            if key==keyVar:\n",
    "                continue\n",
    "            statVar += value\n",
    "    dfAll = _offline_feat(dfAll,keyVar,statVar,partVar,meanVar,['day','feat_set'])\n",
    "del dfAll['feat_set']\n",
    "print(dfAll.shape)"
   ]
  },
  {
   "cell_type": "code",
   "execution_count": null,
   "metadata": {},
   "outputs": [],
   "source": [
    "###连续型变量交叉特征\n",
    "conList = [\n",
    "    'user_gender_id','user_age_level', 'user_star_level',\n",
    "    'item_price_level', 'item_sales_level','item_collected_level', 'item_pv_level',\n",
    "    'context_page_id',\n",
    "    'shop_review_num_level','shop_star_level'\n",
    "]\n",
    "dfAll = cross_feat_plus(dfAll,conList,order=2)\n",
    "dfAll = cross_feat_plus(dfAll,conList,order=3)\n",
    "print(dfAll.shape)"
   ]
  },
  {
   "cell_type": "code",
   "execution_count": null,
   "metadata": {},
   "outputs": [],
   "source": [
    "###当天信息的trick\n",
    "keyList = ['user_id',['user_id','shop_id'],['user_id','item_category_list_bin1']]\n",
    "#,'shop_id','item_id','item_city_id','item_brand_id'\n",
    "for keyVar in keyList:\n",
    "    dfAll = same_day_trick(dfAll,keyVar)\n",
    "print(dfAll.shape)"
   ]
  },
  {
   "cell_type": "code",
   "execution_count": null,
   "metadata": {
    "scrolled": true
   },
   "outputs": [],
   "source": [
    "###两两类别变量的比例/rank 顺序\n",
    "'''baseList = [\n",
    "    'cnt_rec',\n",
    "    'user_id','user_gender_id', 'user_occupation_id','user_age_level', 'user_star_level',\n",
    "    'item_id', 'item_brand_id', 'item_city_id', 'item_price_level', 'item_sales_level','item_collected_level', 'item_pv_level',\n",
    "    'item_category_list_bin1','item_category_list_bin2',\n",
    "    'shop_id', 'shop_review_num_level','shop_star_level'\n",
    "    \n",
    "]\n",
    "\n",
    "calList = [\n",
    "    'user_id','user_gender_id', 'user_occupation_id','item_id', 'item_brand_id', 'item_city_id',\n",
    "    'item_category_list_bin1','item_category_list_bin2','shop_id'\n",
    "]\n",
    "rankList = [\n",
    "    'user_age_level', 'user_star_level','item_price_level', 'item_sales_level','item_collected_level', 'item_pv_level','shop_review_num_level','shop_star_level'\n",
    "]\n",
    "\n",
    "dfAll = interaction_ratio(dfAll,baseList,calList,rankList)'''\n",
    "dfCross = pd.read_csv('../../Data/advertisment/Cache/ratio_rank_new.csv')\n",
    "dfAll = pd.concat([dfAll,dfCross],axis=1)\n",
    "del dfCross\n",
    "\n",
    "print(dfAll.shape)"
   ]
  },
  {
   "cell_type": "markdown",
   "metadata": {},
   "source": [
    "<font color=#0099ff size=5 face=\"黑体\">拆分样本</font>"
   ]
  },
  {
   "cell_type": "code",
   "execution_count": null,
   "metadata": {
    "collapsed": true
   },
   "outputs": [],
   "source": [
    "features = [i for i in dfAll.columns.tolist() if not i in config.IGNORE_COLS]\n",
    "\n",
    "train_idx = dfTrain.loc[(dfTrain['day']<24)&(dfTrain['day']>18)].index\n",
    "valid_idx = dfTrain.loc[dfTrain['day']==24].index\n",
    "Xi_train_, y_train_ = dfAll.loc[list(train_idx),features],dfTrain.loc[train_idx,'is_trade']\n",
    "Xi_valid_, y_valid_ = dfAll.loc[list(valid_idx),features],dfTrain.loc[valid_idx,'is_trade']\n",
    "Xi_test_ = dfAll.loc[trainNum:,features]\n",
    "\n",
    "del dfAll"
   ]
  },
  {
   "cell_type": "markdown",
   "metadata": {},
   "source": [
    "<font color=#0099ff size=5 face=\"黑体\">模型</font>"
   ]
  },
  {
   "cell_type": "code",
   "execution_count": null,
   "metadata": {
    "scrolled": true
   },
   "outputs": [],
   "source": [
    "clf = lgb.LGBMClassifier(\n",
    "    boosting_type = 'gbdt',\n",
    "    num_leaves=40, \n",
    "    max_depth=8,\n",
    "    n_estimators=20000,\n",
    "    n_jobs=20,\n",
    "    learning_rate=0.05,\n",
    "    colsample_bytree=0.8,\n",
    "    subsample=0.9,\n",
    "    max_bin=20\n",
    ")\n",
    "clf.fit(Xi_train_[features], y_train_, eval_set=[(Xi_valid_[features], y_valid_)],feature_name = features,\n",
    "        categorical_feature=[],early_stopping_rounds=100)\n",
    "#[i for i in ['item_category_list_bin1','item_category_list_bin2'] if i in features]\n",
    "y_score_ = clf.predict_proba(Xi_valid_[features],)[:, 1]\n",
    "\n",
    "print(pd.Series(clf.feature_importances_, features).sort_values(ascending=False).reset_index())\n",
    "print(log_loss(y_valid_, y_score_))\n",
    "print(ks_metric(y_valid_, y_score_))\n",
    "bstIter = clf.best_iteration_"
   ]
  },
  {
   "cell_type": "code",
   "execution_count": null,
   "metadata": {
    "collapsed": true
   },
   "outputs": [],
   "source": []
  },
  {
   "cell_type": "code",
   "execution_count": null,
   "metadata": {
    "scrolled": true
   },
   "outputs": [],
   "source": [
    "xx = pd.Series(clf.feature_importances_, features).sort_values(ascending=False).reset_index()\n",
    "(xx[0]==0).sum()"
   ]
  },
  {
   "cell_type": "code",
   "execution_count": null,
   "metadata": {
    "collapsed": true
   },
   "outputs": [],
   "source": [
    "features = xx.loc[xx[0]>0,'index'].tolist()"
   ]
  },
  {
   "cell_type": "code",
   "execution_count": null,
   "metadata": {
    "collapsed": true
   },
   "outputs": [],
   "source": []
  },
  {
   "cell_type": "code",
   "execution_count": null,
   "metadata": {
    "collapsed": true
   },
   "outputs": [],
   "source": [
    "def score_change(score,base_rate,real_rate):\n",
    "    base_change = np.log(base_rate/(1-base_rate)) - np.log(real_rate/(1-real_rate))\n",
    "    score_adj = np.exp(np.log(score/(1-score)) - base_change)/(np.exp(np.log(score/(1-score)) - base_change)+1)\n",
    "    return score_adj"
   ]
  },
  {
   "cell_type": "code",
   "execution_count": null,
   "metadata": {
    "collapsed": true
   },
   "outputs": [],
   "source": [
    "del Xi_train_\n",
    "del Xi_valid_"
   ]
  },
  {
   "cell_type": "code",
   "execution_count": null,
   "metadata": {
    "collapsed": true,
    "scrolled": true
   },
   "outputs": [],
   "source": [
    "Xi_finnal_.shape"
   ]
  },
  {
   "cell_type": "code",
   "execution_count": null,
   "metadata": {
    "collapsed": true
   },
   "outputs": [],
   "source": [
    "#Xi_finnal_ ,y_finnal_ = np.vstack((Xi_train_,Xi_valid_),np.hstack((y_train_,y_valid_))\n",
    "Xi_finnal_ ,y_finnal_ = pd.concat([Xi_train_,Xi_valid_]), pd.concat([y_train_,y_valid_])\n",
    "del Xi_train_\n",
    "del Xi_valid_\n",
    "\n",
    "clf = lgb.LGBMClassifier(\n",
    "    num_leaves=40, \n",
    "    max_depth=8,\n",
    "    n_estimators=bstIter,\n",
    "    n_jobs=20,\n",
    "    learning_rate=0.05,\n",
    "    colsample_bytree=0.8,\n",
    "    subsample=0.9,\n",
    "    max_bin=20\n",
    ")\n",
    "clf.fit(Xi_finnal_[features], y_finnal_,feature_name = features,\n",
    "        categorical_feature=[])\n",
    "#[i for i in ['item_category_list_bin1','item_category_list_bin2'] if i in features]\n",
    "y_test_meta = np.zeros((dfTest.shape[0], 1), dtype=float)\n",
    "y_test_meta[:,0] += clf.predict_proba(Xi_test_[features])[:,1]\n",
    "submit = pd.DataFrame({'instance_id':dfTest['instance_id'],'predicted_score':y_test_meta[:,0]})\n",
    "#submit.to_csv('../../Submission/advertisement/gbm_trick_0330.txt', sep=\" \", index=False, line_terminator='\\n')"
   ]
  },
  {
   "cell_type": "code",
   "execution_count": null,
   "metadata": {
    "collapsed": true
   },
   "outputs": [],
   "source": [
    "y_test_meta[:,0] += clf.predict_proba(Xi_test_[features])[:,1]\n",
    "submit = pd.DataFrame({'instance_id':dfTest['instance_id'],'predicted_score':y_test_meta[:,0]})"
   ]
  },
  {
   "cell_type": "code",
   "execution_count": null,
   "metadata": {
    "collapsed": true
   },
   "outputs": [],
   "source": [
    "submit = submit.loc[submit['instance_id'].isin(idSubmit)]\n",
    "submit['predicted_score'].mean()"
   ]
  },
  {
   "cell_type": "code",
   "execution_count": null,
   "metadata": {
    "collapsed": true
   },
   "outputs": [],
   "source": [
    "y_finnal_.mean()"
   ]
  },
  {
   "cell_type": "code",
   "execution_count": null,
   "metadata": {
    "collapsed": true
   },
   "outputs": [],
   "source": [
    "submit.to_csv('../../Submission/advertisement/gbm_trick_testb_419.txt', sep=\" \", index=False, line_terminator='\\n')"
   ]
  },
  {
   "cell_type": "code",
   "execution_count": null,
   "metadata": {
    "collapsed": true
   },
   "outputs": [],
   "source": [
    "submit['predicted_score'] = 0\n",
    "submit.to_csv('../../Submission/advertisement/gbm_trick_testb_418.txt', sep=\" \", index=False, line_terminator='\\n')"
   ]
  },
  {
   "cell_type": "code",
   "execution_count": null,
   "metadata": {
    "collapsed": true
   },
   "outputs": [],
   "source": [
    "submit['predicted_score'] = score_change(submit['predicted_score'],submit['predicted_score'].mean(),0.018116956)\n",
    "print(submit['predicted_score'].mean())\n",
    "submit.to_csv('../../Submission/advertisement/gbm_trick_testb_adj_419.txt', sep=\" \", index=False, line_terminator='\\n')"
   ]
  },
  {
   "cell_type": "code",
   "execution_count": null,
   "metadata": {
    "collapsed": true
   },
   "outputs": [],
   "source": []
  },
  {
   "cell_type": "code",
   "execution_count": null,
   "metadata": {
    "collapsed": true
   },
   "outputs": [],
   "source": []
  },
  {
   "cell_type": "code",
   "execution_count": null,
   "metadata": {
    "collapsed": true
   },
   "outputs": [],
   "source": [
    "submit = pd.read_csv('../../Submission/advertisement/gbm_trick_text_417.txt',sep=\" \")"
   ]
  },
  {
   "cell_type": "code",
   "execution_count": null,
   "metadata": {
    "collapsed": true
   },
   "outputs": [],
   "source": []
  },
  {
   "cell_type": "code",
   "execution_count": null,
   "metadata": {
    "collapsed": true
   },
   "outputs": [],
   "source": []
  },
  {
   "cell_type": "code",
   "execution_count": null,
   "metadata": {
    "collapsed": true
   },
   "outputs": [],
   "source": []
  },
  {
   "cell_type": "code",
   "execution_count": null,
   "metadata": {
    "collapsed": true
   },
   "outputs": [],
   "source": []
  }
 ],
 "metadata": {
  "kernelspec": {
   "display_name": "Python 3",
   "language": "python",
   "name": "python3"
  },
  "language_info": {
   "codemirror_mode": {
    "name": "ipython",
    "version": 3
   },
   "file_extension": ".py",
   "mimetype": "text/x-python",
   "name": "python",
   "nbconvert_exporter": "python",
   "pygments_lexer": "ipython3",
   "version": "3.6.3"
  }
 },
 "nbformat": 4,
 "nbformat_minor": 2
}
