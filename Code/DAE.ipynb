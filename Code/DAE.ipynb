{
 "cells": [
  {
   "cell_type": "code",
   "execution_count": 1,
   "metadata": {
    "collapsed": true
   },
   "outputs": [],
   "source": [
    "import pandas as pd\n",
    "import numpy as np"
   ]
  },
  {
   "cell_type": "code",
   "execution_count": 2,
   "metadata": {
    "collapsed": true
   },
   "outputs": [],
   "source": [
    "dataDir = '../../Data/advertisment/Raw/'\n",
    "trainFile = 'round1_ijcai_18_train_20180301.txt'\n",
    "testFile = 'round1_ijcai_18_test_a_20180301.txt'"
   ]
  },
  {
   "cell_type": "code",
   "execution_count": 3,
   "metadata": {
    "collapsed": true
   },
   "outputs": [],
   "source": [
    "dfTrain = pd.read_table(dataDir+trainFile,sep = ' ')"
   ]
  },
  {
   "cell_type": "code",
   "execution_count": 16,
   "metadata": {
    "scrolled": true
   },
   "outputs": [
    {
     "data": {
      "text/plain": [
       "instance_id                  0\n",
       "item_id                      0\n",
       "item_category_list           0\n",
       "item_property_list           0\n",
       "item_brand_id                0\n",
       "item_city_id                 0\n",
       "item_price_level             0\n",
       "item_sales_level             0\n",
       "item_collected_level         0\n",
       "item_pv_level                0\n",
       "user_id                      0\n",
       "user_gender_id               0\n",
       "user_age_level               0\n",
       "user_occupation_id           0\n",
       "user_star_level              0\n",
       "context_id                   0\n",
       "context_timestamp            0\n",
       "context_page_id              0\n",
       "predict_category_property    0\n",
       "shop_id                      0\n",
       "shop_review_num_level        0\n",
       "shop_review_positive_rate    0\n",
       "shop_star_level              0\n",
       "shop_score_service           0\n",
       "shop_score_delivery          0\n",
       "shop_score_description       0\n",
       "is_trade                     0\n",
       "item_category_list_cnt       0\n",
       "item_property_list_cnt       0\n",
       "dtype: int64"
      ]
     },
     "execution_count": 16,
     "metadata": {},
     "output_type": "execute_result"
    }
   ],
   "source": [
    "dfTrain.isnull().sum()"
   ]
  },
  {
   "cell_type": "code",
   "execution_count": 5,
   "metadata": {},
   "outputs": [
    {
     "data": {
      "text/html": [
       "<div>\n",
       "<style scoped>\n",
       "    .dataframe tbody tr th:only-of-type {\n",
       "        vertical-align: middle;\n",
       "    }\n",
       "\n",
       "    .dataframe tbody tr th {\n",
       "        vertical-align: top;\n",
       "    }\n",
       "\n",
       "    .dataframe thead th {\n",
       "        text-align: right;\n",
       "    }\n",
       "</style>\n",
       "<table border=\"1\" class=\"dataframe\">\n",
       "  <thead>\n",
       "    <tr style=\"text-align: right;\">\n",
       "      <th></th>\n",
       "      <th>instance_id</th>\n",
       "      <th>item_id</th>\n",
       "      <th>item_category_list</th>\n",
       "      <th>item_property_list</th>\n",
       "      <th>item_brand_id</th>\n",
       "      <th>item_city_id</th>\n",
       "      <th>item_price_level</th>\n",
       "      <th>item_sales_level</th>\n",
       "      <th>item_collected_level</th>\n",
       "      <th>item_pv_level</th>\n",
       "      <th>...</th>\n",
       "      <th>context_page_id</th>\n",
       "      <th>predict_category_property</th>\n",
       "      <th>shop_id</th>\n",
       "      <th>shop_review_num_level</th>\n",
       "      <th>shop_review_positive_rate</th>\n",
       "      <th>shop_star_level</th>\n",
       "      <th>shop_score_service</th>\n",
       "      <th>shop_score_delivery</th>\n",
       "      <th>shop_score_description</th>\n",
       "      <th>is_trade</th>\n",
       "    </tr>\n",
       "  </thead>\n",
       "  <tbody>\n",
       "    <tr>\n",
       "      <th>0</th>\n",
       "      <td>108641074714126964</td>\n",
       "      <td>3412720377098676069</td>\n",
       "      <td>7908382889764677758;5799347067982556520</td>\n",
       "      <td>2072967855524022579;5131280576272319091;263639...</td>\n",
       "      <td>1975590437749032870</td>\n",
       "      <td>3948283326616421003</td>\n",
       "      <td>3</td>\n",
       "      <td>3</td>\n",
       "      <td>4</td>\n",
       "      <td>14</td>\n",
       "      <td>...</td>\n",
       "      <td>4006</td>\n",
       "      <td>5799347067982556520:-1;509660095530134768:-1;5...</td>\n",
       "      <td>6765930309048922341</td>\n",
       "      <td>4</td>\n",
       "      <td>1.0</td>\n",
       "      <td>5002</td>\n",
       "      <td>1.0</td>\n",
       "      <td>1.0</td>\n",
       "      <td>1.0</td>\n",
       "      <td>0</td>\n",
       "    </tr>\n",
       "    <tr>\n",
       "      <th>1</th>\n",
       "      <td>5754713551599725161</td>\n",
       "      <td>3412720377098676069</td>\n",
       "      <td>7908382889764677758;5799347067982556520</td>\n",
       "      <td>2072967855524022579;5131280576272319091;263639...</td>\n",
       "      <td>1975590437749032870</td>\n",
       "      <td>3948283326616421003</td>\n",
       "      <td>3</td>\n",
       "      <td>3</td>\n",
       "      <td>4</td>\n",
       "      <td>14</td>\n",
       "      <td>...</td>\n",
       "      <td>4001</td>\n",
       "      <td>5799347067982556520:9172976955054793469;790838...</td>\n",
       "      <td>6765930309048922341</td>\n",
       "      <td>4</td>\n",
       "      <td>1.0</td>\n",
       "      <td>5002</td>\n",
       "      <td>1.0</td>\n",
       "      <td>1.0</td>\n",
       "      <td>1.0</td>\n",
       "      <td>0</td>\n",
       "    </tr>\n",
       "    <tr>\n",
       "      <th>2</th>\n",
       "      <td>842679481291040981</td>\n",
       "      <td>3412720377098676069</td>\n",
       "      <td>7908382889764677758;5799347067982556520</td>\n",
       "      <td>2072967855524022579;5131280576272319091;263639...</td>\n",
       "      <td>1975590437749032870</td>\n",
       "      <td>3948283326616421003</td>\n",
       "      <td>3</td>\n",
       "      <td>3</td>\n",
       "      <td>4</td>\n",
       "      <td>14</td>\n",
       "      <td>...</td>\n",
       "      <td>4001</td>\n",
       "      <td>5799347067982556520:5131280576272319091;725801...</td>\n",
       "      <td>6765930309048922341</td>\n",
       "      <td>4</td>\n",
       "      <td>1.0</td>\n",
       "      <td>5002</td>\n",
       "      <td>1.0</td>\n",
       "      <td>1.0</td>\n",
       "      <td>1.0</td>\n",
       "      <td>0</td>\n",
       "    </tr>\n",
       "    <tr>\n",
       "      <th>3</th>\n",
       "      <td>937088850059189027</td>\n",
       "      <td>3412720377098676069</td>\n",
       "      <td>7908382889764677758;5799347067982556520</td>\n",
       "      <td>2072967855524022579;5131280576272319091;263639...</td>\n",
       "      <td>1975590437749032870</td>\n",
       "      <td>3948283326616421003</td>\n",
       "      <td>3</td>\n",
       "      <td>3</td>\n",
       "      <td>4</td>\n",
       "      <td>14</td>\n",
       "      <td>...</td>\n",
       "      <td>4016</td>\n",
       "      <td>509660095530134768:-1;5799347067982556520:-1;7...</td>\n",
       "      <td>6765930309048922341</td>\n",
       "      <td>4</td>\n",
       "      <td>1.0</td>\n",
       "      <td>5002</td>\n",
       "      <td>1.0</td>\n",
       "      <td>1.0</td>\n",
       "      <td>1.0</td>\n",
       "      <td>0</td>\n",
       "    </tr>\n",
       "  </tbody>\n",
       "</table>\n",
       "<p>4 rows × 27 columns</p>\n",
       "</div>"
      ],
      "text/plain": [
       "           instance_id              item_id  \\\n",
       "0   108641074714126964  3412720377098676069   \n",
       "1  5754713551599725161  3412720377098676069   \n",
       "2   842679481291040981  3412720377098676069   \n",
       "3   937088850059189027  3412720377098676069   \n",
       "\n",
       "                        item_category_list  \\\n",
       "0  7908382889764677758;5799347067982556520   \n",
       "1  7908382889764677758;5799347067982556520   \n",
       "2  7908382889764677758;5799347067982556520   \n",
       "3  7908382889764677758;5799347067982556520   \n",
       "\n",
       "                                  item_property_list        item_brand_id  \\\n",
       "0  2072967855524022579;5131280576272319091;263639...  1975590437749032870   \n",
       "1  2072967855524022579;5131280576272319091;263639...  1975590437749032870   \n",
       "2  2072967855524022579;5131280576272319091;263639...  1975590437749032870   \n",
       "3  2072967855524022579;5131280576272319091;263639...  1975590437749032870   \n",
       "\n",
       "          item_city_id  item_price_level  item_sales_level  \\\n",
       "0  3948283326616421003                 3                 3   \n",
       "1  3948283326616421003                 3                 3   \n",
       "2  3948283326616421003                 3                 3   \n",
       "3  3948283326616421003                 3                 3   \n",
       "\n",
       "   item_collected_level  item_pv_level    ...     context_page_id  \\\n",
       "0                     4             14    ...                4006   \n",
       "1                     4             14    ...                4001   \n",
       "2                     4             14    ...                4001   \n",
       "3                     4             14    ...                4016   \n",
       "\n",
       "                           predict_category_property              shop_id  \\\n",
       "0  5799347067982556520:-1;509660095530134768:-1;5...  6765930309048922341   \n",
       "1  5799347067982556520:9172976955054793469;790838...  6765930309048922341   \n",
       "2  5799347067982556520:5131280576272319091;725801...  6765930309048922341   \n",
       "3  509660095530134768:-1;5799347067982556520:-1;7...  6765930309048922341   \n",
       "\n",
       "   shop_review_num_level  shop_review_positive_rate  shop_star_level  \\\n",
       "0                      4                        1.0             5002   \n",
       "1                      4                        1.0             5002   \n",
       "2                      4                        1.0             5002   \n",
       "3                      4                        1.0             5002   \n",
       "\n",
       "   shop_score_service  shop_score_delivery shop_score_description  is_trade  \n",
       "0                 1.0                  1.0                    1.0         0  \n",
       "1                 1.0                  1.0                    1.0         0  \n",
       "2                 1.0                  1.0                    1.0         0  \n",
       "3                 1.0                  1.0                    1.0         0  \n",
       "\n",
       "[4 rows x 27 columns]"
      ]
     },
     "execution_count": 5,
     "metadata": {},
     "output_type": "execute_result"
    }
   ],
   "source": [
    "dfTrain.head(4)"
   ]
  },
  {
   "cell_type": "code",
   "execution_count": 8,
   "metadata": {},
   "outputs": [
    {
     "data": {
      "text/plain": [
       "array([21, 49, 45, 29, 31, 34, 32, 47, 28, 38, 24, 36, 23, 33, 26, 58, 25,\n",
       "       42, 19, 20, 27, 16, 40, 12, 18, 37, 22, 44, 35, 48, 50, 30, 43, 15,\n",
       "       17, 39, 14, 13, 63, 54, 41, 46, 56,  9, 11, 99, 53, 75, 51, 62,  5,\n",
       "       52, 59, 70, 61, 57, 66, 55, 60, 67, 10, 87, 96, 72, 74, 84, 81, 88,\n",
       "        8, 69,  7, 92, 65, 90,  6, 71, 64, 73, 98], dtype=int64)"
      ]
     },
     "execution_count": 8,
     "metadata": {},
     "output_type": "execute_result"
    }
   ],
   "source": [
    "dfTrain['item_property_list_cnt'] = dfTrain['item_property_list'].apply(lambda x: x.count(';'))\n",
    "dfTrain['item_property_list_cnt'].unique()"
   ]
  },
  {
   "cell_type": "code",
   "execution_count": 10,
   "metadata": {},
   "outputs": [
    {
     "data": {
      "text/plain": [
       "array([ 5,  6,  7,  8,  9, 10, 11, 12, 13, 14, 15, 16, 17, 18, 19, 20, 21,\n",
       "       22, 23, 24, 25, 26, 27, 28, 29, 30, 31, 32, 33, 34, 35, 36, 37, 38,\n",
       "       39, 40, 41, 42, 43, 44, 45, 46, 47, 48, 49, 50, 51, 52, 53, 54, 55,\n",
       "       56, 57, 58, 59, 60, 61, 62, 63, 64, 65, 66, 67, 69, 70, 71, 72, 73,\n",
       "       74, 75, 81, 84, 87, 88, 90, 92, 96, 98, 99], dtype=int64)"
      ]
     },
     "execution_count": 10,
     "metadata": {},
     "output_type": "execute_result"
    }
   ],
   "source": [
    "tt = dfTrain['item_property_list_cnt'].unique()\n",
    "tt.sort()\n",
    "tt"
   ]
  },
  {
   "cell_type": "code",
   "execution_count": 14,
   "metadata": {},
   "outputs": [
    {
     "data": {
      "text/plain": [
       "array([ 0,  1,  2,  3,  4,  5,  6,  7,  8,  9, 10, 11, 16, 17], dtype=int64)"
      ]
     },
     "execution_count": 14,
     "metadata": {},
     "output_type": "execute_result"
    }
   ],
   "source": [
    "tt = dfTrain['item_price_level'].unique()\n",
    "tt.sort()\n",
    "tt"
   ]
  },
  {
   "cell_type": "code",
   "execution_count": 20,
   "metadata": {},
   "outputs": [
    {
     "data": {
      "text/plain": [
       "0.01886693799697995"
      ]
     },
     "execution_count": 20,
     "metadata": {},
     "output_type": "execute_result"
    }
   ],
   "source": [
    "dfTrain['is_trade'].mean()"
   ]
  },
  {
   "cell_type": "code",
   "execution_count": null,
   "metadata": {
    "collapsed": true
   },
   "outputs": [],
   "source": []
  },
  {
   "cell_type": "code",
   "execution_count": null,
   "metadata": {
    "collapsed": true
   },
   "outputs": [],
   "source": []
  },
  {
   "cell_type": "code",
   "execution_count": null,
   "metadata": {
    "collapsed": true
   },
   "outputs": [],
   "source": []
  },
  {
   "cell_type": "code",
   "execution_count": null,
   "metadata": {
    "collapsed": true
   },
   "outputs": [],
   "source": []
  },
  {
   "cell_type": "code",
   "execution_count": null,
   "metadata": {
    "collapsed": true
   },
   "outputs": [],
   "source": []
  },
  {
   "cell_type": "code",
   "execution_count": null,
   "metadata": {
    "collapsed": true
   },
   "outputs": [],
   "source": []
  },
  {
   "cell_type": "code",
   "execution_count": null,
   "metadata": {
    "collapsed": true
   },
   "outputs": [],
   "source": []
  },
  {
   "cell_type": "code",
   "execution_count": null,
   "metadata": {
    "collapsed": true
   },
   "outputs": [],
   "source": []
  }
 ],
 "metadata": {
  "kernelspec": {
   "display_name": "Python 3",
   "language": "python",
   "name": "python3"
  },
  "language_info": {
   "codemirror_mode": {
    "name": "ipython",
    "version": 3
   },
   "file_extension": ".py",
   "mimetype": "text/x-python",
   "name": "python",
   "nbconvert_exporter": "python",
   "pygments_lexer": "ipython3",
   "version": "3.6.3"
  }
 },
 "nbformat": 4,
 "nbformat_minor": 2
}
