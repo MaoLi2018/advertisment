{
 "cells": [
  {
   "cell_type": "code",
   "execution_count": 1,
   "metadata": {
    "collapsed": true
   },
   "outputs": [],
   "source": [
    "import numpy as np\n",
    "import pandas as pd\n",
    "import time"
   ]
  },
  {
   "cell_type": "code",
   "execution_count": 2,
   "metadata": {
    "collapsed": true
   },
   "outputs": [],
   "source": [
    "trainFile = 'round1_ijcai_18_train_20180301.txt'\n",
    "testFile = 'round1_ijcai_18_test_a_20180301.txt'\n",
    "dataDir = '../../Data/advertisment/Raw/'"
   ]
  },
  {
   "cell_type": "code",
   "execution_count": 3,
   "metadata": {
    "collapsed": true
   },
   "outputs": [],
   "source": [
    "dfTrain = pd.read_table(dataDir+trainFile,sep=' ')\n",
    "dfTest = pd.read_table(dataDir+testFile,sep=' ')"
   ]
  },
  {
   "cell_type": "code",
   "execution_count": 4,
   "metadata": {},
   "outputs": [
    {
     "data": {
      "text/plain": [
       "instance_id                    int64\n",
       "item_id                        int64\n",
       "item_category_list            object\n",
       "item_property_list            object\n",
       "item_brand_id                  int64\n",
       "item_city_id                   int64\n",
       "item_price_level               int64\n",
       "item_sales_level               int64\n",
       "item_collected_level           int64\n",
       "item_pv_level                  int64\n",
       "user_id                        int64\n",
       "user_gender_id                 int64\n",
       "user_age_level                 int64\n",
       "user_occupation_id             int64\n",
       "user_star_level                int64\n",
       "context_id                     int64\n",
       "context_timestamp              int64\n",
       "context_page_id                int64\n",
       "predict_category_property     object\n",
       "shop_id                        int64\n",
       "shop_review_num_level          int64\n",
       "shop_review_positive_rate    float64\n",
       "shop_star_level                int64\n",
       "shop_score_service           float64\n",
       "shop_score_delivery          float64\n",
       "shop_score_description       float64\n",
       "is_trade                       int64\n",
       "dtype: object"
      ]
     },
     "execution_count": 4,
     "metadata": {},
     "output_type": "execute_result"
    }
   ],
   "source": [
    "dfTrain.dtypes"
   ]
  },
  {
   "cell_type": "code",
   "execution_count": 5,
   "metadata": {},
   "outputs": [
    {
     "data": {
      "text/html": [
       "<div>\n",
       "<style scoped>\n",
       "    .dataframe tbody tr th:only-of-type {\n",
       "        vertical-align: middle;\n",
       "    }\n",
       "\n",
       "    .dataframe tbody tr th {\n",
       "        vertical-align: top;\n",
       "    }\n",
       "\n",
       "    .dataframe thead th {\n",
       "        text-align: right;\n",
       "    }\n",
       "</style>\n",
       "<table border=\"1\" class=\"dataframe\">\n",
       "  <thead>\n",
       "    <tr style=\"text-align: right;\">\n",
       "      <th></th>\n",
       "      <th>instance_id</th>\n",
       "      <th>item_id</th>\n",
       "      <th>item_category_list</th>\n",
       "      <th>item_property_list</th>\n",
       "      <th>item_brand_id</th>\n",
       "      <th>item_city_id</th>\n",
       "      <th>item_price_level</th>\n",
       "      <th>item_sales_level</th>\n",
       "      <th>item_collected_level</th>\n",
       "      <th>item_pv_level</th>\n",
       "      <th>...</th>\n",
       "      <th>context_page_id</th>\n",
       "      <th>predict_category_property</th>\n",
       "      <th>shop_id</th>\n",
       "      <th>shop_review_num_level</th>\n",
       "      <th>shop_review_positive_rate</th>\n",
       "      <th>shop_star_level</th>\n",
       "      <th>shop_score_service</th>\n",
       "      <th>shop_score_delivery</th>\n",
       "      <th>shop_score_description</th>\n",
       "      <th>is_trade</th>\n",
       "    </tr>\n",
       "  </thead>\n",
       "  <tbody>\n",
       "    <tr>\n",
       "      <th>0</th>\n",
       "      <td>108641074714126964</td>\n",
       "      <td>3412720377098676069</td>\n",
       "      <td>7908382889764677758;5799347067982556520</td>\n",
       "      <td>2072967855524022579;5131280576272319091;263639...</td>\n",
       "      <td>1975590437749032870</td>\n",
       "      <td>3948283326616421003</td>\n",
       "      <td>3</td>\n",
       "      <td>3</td>\n",
       "      <td>4</td>\n",
       "      <td>14</td>\n",
       "      <td>...</td>\n",
       "      <td>4006</td>\n",
       "      <td>5799347067982556520:-1;509660095530134768:-1;5...</td>\n",
       "      <td>6765930309048922341</td>\n",
       "      <td>4</td>\n",
       "      <td>1.0</td>\n",
       "      <td>5002</td>\n",
       "      <td>1.0</td>\n",
       "      <td>1.0</td>\n",
       "      <td>1.0</td>\n",
       "      <td>0</td>\n",
       "    </tr>\n",
       "    <tr>\n",
       "      <th>1</th>\n",
       "      <td>5754713551599725161</td>\n",
       "      <td>3412720377098676069</td>\n",
       "      <td>7908382889764677758;5799347067982556520</td>\n",
       "      <td>2072967855524022579;5131280576272319091;263639...</td>\n",
       "      <td>1975590437749032870</td>\n",
       "      <td>3948283326616421003</td>\n",
       "      <td>3</td>\n",
       "      <td>3</td>\n",
       "      <td>4</td>\n",
       "      <td>14</td>\n",
       "      <td>...</td>\n",
       "      <td>4001</td>\n",
       "      <td>5799347067982556520:9172976955054793469;790838...</td>\n",
       "      <td>6765930309048922341</td>\n",
       "      <td>4</td>\n",
       "      <td>1.0</td>\n",
       "      <td>5002</td>\n",
       "      <td>1.0</td>\n",
       "      <td>1.0</td>\n",
       "      <td>1.0</td>\n",
       "      <td>0</td>\n",
       "    </tr>\n",
       "    <tr>\n",
       "      <th>2</th>\n",
       "      <td>842679481291040981</td>\n",
       "      <td>3412720377098676069</td>\n",
       "      <td>7908382889764677758;5799347067982556520</td>\n",
       "      <td>2072967855524022579;5131280576272319091;263639...</td>\n",
       "      <td>1975590437749032870</td>\n",
       "      <td>3948283326616421003</td>\n",
       "      <td>3</td>\n",
       "      <td>3</td>\n",
       "      <td>4</td>\n",
       "      <td>14</td>\n",
       "      <td>...</td>\n",
       "      <td>4001</td>\n",
       "      <td>5799347067982556520:5131280576272319091;725801...</td>\n",
       "      <td>6765930309048922341</td>\n",
       "      <td>4</td>\n",
       "      <td>1.0</td>\n",
       "      <td>5002</td>\n",
       "      <td>1.0</td>\n",
       "      <td>1.0</td>\n",
       "      <td>1.0</td>\n",
       "      <td>0</td>\n",
       "    </tr>\n",
       "    <tr>\n",
       "      <th>3</th>\n",
       "      <td>937088850059189027</td>\n",
       "      <td>3412720377098676069</td>\n",
       "      <td>7908382889764677758;5799347067982556520</td>\n",
       "      <td>2072967855524022579;5131280576272319091;263639...</td>\n",
       "      <td>1975590437749032870</td>\n",
       "      <td>3948283326616421003</td>\n",
       "      <td>3</td>\n",
       "      <td>3</td>\n",
       "      <td>4</td>\n",
       "      <td>14</td>\n",
       "      <td>...</td>\n",
       "      <td>4016</td>\n",
       "      <td>509660095530134768:-1;5799347067982556520:-1;7...</td>\n",
       "      <td>6765930309048922341</td>\n",
       "      <td>4</td>\n",
       "      <td>1.0</td>\n",
       "      <td>5002</td>\n",
       "      <td>1.0</td>\n",
       "      <td>1.0</td>\n",
       "      <td>1.0</td>\n",
       "      <td>0</td>\n",
       "    </tr>\n",
       "    <tr>\n",
       "      <th>4</th>\n",
       "      <td>7975697065017708072</td>\n",
       "      <td>3412720377098676069</td>\n",
       "      <td>7908382889764677758;5799347067982556520</td>\n",
       "      <td>2072967855524022579;5131280576272319091;263639...</td>\n",
       "      <td>1975590437749032870</td>\n",
       "      <td>3948283326616421003</td>\n",
       "      <td>3</td>\n",
       "      <td>3</td>\n",
       "      <td>4</td>\n",
       "      <td>14</td>\n",
       "      <td>...</td>\n",
       "      <td>4001</td>\n",
       "      <td>5799347067982556520:9172976955054793469;790838...</td>\n",
       "      <td>6765930309048922341</td>\n",
       "      <td>4</td>\n",
       "      <td>1.0</td>\n",
       "      <td>5002</td>\n",
       "      <td>1.0</td>\n",
       "      <td>1.0</td>\n",
       "      <td>1.0</td>\n",
       "      <td>0</td>\n",
       "    </tr>\n",
       "  </tbody>\n",
       "</table>\n",
       "<p>5 rows × 27 columns</p>\n",
       "</div>"
      ],
      "text/plain": [
       "           instance_id              item_id  \\\n",
       "0   108641074714126964  3412720377098676069   \n",
       "1  5754713551599725161  3412720377098676069   \n",
       "2   842679481291040981  3412720377098676069   \n",
       "3   937088850059189027  3412720377098676069   \n",
       "4  7975697065017708072  3412720377098676069   \n",
       "\n",
       "                        item_category_list  \\\n",
       "0  7908382889764677758;5799347067982556520   \n",
       "1  7908382889764677758;5799347067982556520   \n",
       "2  7908382889764677758;5799347067982556520   \n",
       "3  7908382889764677758;5799347067982556520   \n",
       "4  7908382889764677758;5799347067982556520   \n",
       "\n",
       "                                  item_property_list        item_brand_id  \\\n",
       "0  2072967855524022579;5131280576272319091;263639...  1975590437749032870   \n",
       "1  2072967855524022579;5131280576272319091;263639...  1975590437749032870   \n",
       "2  2072967855524022579;5131280576272319091;263639...  1975590437749032870   \n",
       "3  2072967855524022579;5131280576272319091;263639...  1975590437749032870   \n",
       "4  2072967855524022579;5131280576272319091;263639...  1975590437749032870   \n",
       "\n",
       "          item_city_id  item_price_level  item_sales_level  \\\n",
       "0  3948283326616421003                 3                 3   \n",
       "1  3948283326616421003                 3                 3   \n",
       "2  3948283326616421003                 3                 3   \n",
       "3  3948283326616421003                 3                 3   \n",
       "4  3948283326616421003                 3                 3   \n",
       "\n",
       "   item_collected_level  item_pv_level    ...     context_page_id  \\\n",
       "0                     4             14    ...                4006   \n",
       "1                     4             14    ...                4001   \n",
       "2                     4             14    ...                4001   \n",
       "3                     4             14    ...                4016   \n",
       "4                     4             14    ...                4001   \n",
       "\n",
       "                           predict_category_property              shop_id  \\\n",
       "0  5799347067982556520:-1;509660095530134768:-1;5...  6765930309048922341   \n",
       "1  5799347067982556520:9172976955054793469;790838...  6765930309048922341   \n",
       "2  5799347067982556520:5131280576272319091;725801...  6765930309048922341   \n",
       "3  509660095530134768:-1;5799347067982556520:-1;7...  6765930309048922341   \n",
       "4  5799347067982556520:9172976955054793469;790838...  6765930309048922341   \n",
       "\n",
       "   shop_review_num_level  shop_review_positive_rate  shop_star_level  \\\n",
       "0                      4                        1.0             5002   \n",
       "1                      4                        1.0             5002   \n",
       "2                      4                        1.0             5002   \n",
       "3                      4                        1.0             5002   \n",
       "4                      4                        1.0             5002   \n",
       "\n",
       "   shop_score_service  shop_score_delivery shop_score_description  is_trade  \n",
       "0                 1.0                  1.0                    1.0         0  \n",
       "1                 1.0                  1.0                    1.0         0  \n",
       "2                 1.0                  1.0                    1.0         0  \n",
       "3                 1.0                  1.0                    1.0         0  \n",
       "4                 1.0                  1.0                    1.0         0  \n",
       "\n",
       "[5 rows x 27 columns]"
      ]
     },
     "execution_count": 5,
     "metadata": {},
     "output_type": "execute_result"
    }
   ],
   "source": [
    "dfTrain.head(5)"
   ]
  },
  {
   "cell_type": "code",
   "execution_count": 40,
   "metadata": {},
   "outputs": [
    {
     "data": {
      "text/plain": [
       "count    478138.000000\n",
       "mean          3.811791\n",
       "std           1.797422\n",
       "min           0.000000\n",
       "25%           2.000000\n",
       "50%           4.000000\n",
       "75%           5.000000\n",
       "max          13.000000\n",
       "Name: predict_category_property_bin, dtype: float64"
      ]
     },
     "execution_count": 40,
     "metadata": {},
     "output_type": "execute_result"
    }
   ],
   "source": [
    "dfTrain['predict_category_property_bin'] = dfTrain['predict_category_property'].apply(lambda x: x.count(';'))\n",
    "dfTrain['predict_category_property_bin'].describe()"
   ]
  },
  {
   "cell_type": "code",
   "execution_count": 45,
   "metadata": {},
   "outputs": [
    {
     "data": {
      "text/plain": [
       "163                 7908382889764677758:8500395963709890328\n",
       "333                 7908382889764677758:2636395404473730413\n",
       "970                 7908382889764677758:2636395404473730413\n",
       "1303                7908382889764677758:8500395963709890328\n",
       "1606                7908382889764677758:8500395963709890328\n",
       "1950      836752724084922533:5131280576272319091,8218883...\n",
       "2103                                 7908382889764677758:-1\n",
       "2568                7908382889764677758:2636395404473730413\n",
       "3641                                 7908382889764677758:-1\n",
       "3769      509660095530134768:1885623735035256840,5514263...\n",
       "3784                                 7908382889764677758:-1\n",
       "3811                7908382889764677758:2636395404473730413\n",
       "4618                                 7908382889764677758:-1\n",
       "6176      836752724084922533:2636395404473730413,8218883...\n",
       "6779                7908382889764677758:1326487468817980284\n",
       "7773                7908382889764677758:2636395404473730413\n",
       "8717                                 7908382889764677758:-1\n",
       "10573                                7908382889764677758:-1\n",
       "11042                                7908382889764677758:-1\n",
       "12127                                7908382889764677758:-1\n",
       "12485               7908382889764677758:2636395404473730413\n",
       "12949                                7908382889764677758:-1\n",
       "15967               7908382889764677758:2636395404473730413\n",
       "16430     7908382889764677758:2636395404473730413,914848...\n",
       "17572                                7908382889764677758:-1\n",
       "18202                                7908382889764677758:-1\n",
       "18488     836752724084922533:8218883658021718578,3605305...\n",
       "18977     7908382889764677758:9148482949976129397,820214...\n",
       "19256     7908382889764677758:9148482949976129397,820214...\n",
       "19579     7908382889764677758:2636395404473730413,914848...\n",
       "                                ...                        \n",
       "472259                               7908382889764677758:-1\n",
       "472341                               7908382889764677758:-1\n",
       "473295                               7908382889764677758:-1\n",
       "473304                               7908382889764677758:-1\n",
       "473332                               7908382889764677758:-1\n",
       "474042                               7908382889764677758:-1\n",
       "474048                               7908382889764677758:-1\n",
       "474580                               7908382889764677758:-1\n",
       "474599                               7908382889764677758:-1\n",
       "474611                               7908382889764677758:-1\n",
       "474744               8277336076276184272:820214312075361939\n",
       "474763                               7908382889764677758:-1\n",
       "474770                               7908382889764677758:-1\n",
       "474778                               7908382889764677758:-1\n",
       "475153    7908382889764677758:7323906747451897092,188562...\n",
       "475317                               7908382889764677758:-1\n",
       "475321                               7908382889764677758:-1\n",
       "475525                               7908382889764677758:-1\n",
       "475778                               7908382889764677758:-1\n",
       "475832                               7908382889764677758:-1\n",
       "475854              7908382889764677758:1326487468817980284\n",
       "476174                               7908382889764677758:-1\n",
       "476336                               7908382889764677758:-1\n",
       "476345                               7908382889764677758:-1\n",
       "476347                               7908382889764677758:-1\n",
       "476957                               7908382889764677758:-1\n",
       "477031                               7908382889764677758:-1\n",
       "477072                               7908382889764677758:-1\n",
       "477508    836752724084922533:761119359971559235,82188836...\n",
       "477699              5755694407684602296:2636395404473730413\n",
       "Name: predict_category_property, Length: 1516, dtype: object"
      ]
     },
     "execution_count": 45,
     "metadata": {},
     "output_type": "execute_result"
    }
   ],
   "source": [
    "dfTrain.loc[dfTrain['predict_category_property_bin']==0,'predict_category_property']"
   ]
  },
  {
   "cell_type": "code",
   "execution_count": 16,
   "metadata": {},
   "outputs": [
    {
     "name": "stdout",
     "output_type": "stream",
     "text": [
      "['7908382889764677758']\n",
      "['5799347067982556520' '8277336076276184272' '5755694407684602296'\n",
      " '4879721024980945592' '509660095530134768' '2436715285093487584'\n",
      " '7258015885215914736' '8710739180200009128' '2011981573061447208'\n",
      " '22731265849056483' '3203673979138763595' '2642175453151805566'\n",
      " '1968056100269760729']\n",
      "[' ' '8868887661186419229' '6233669177166538628']\n"
     ]
    }
   ],
   "source": [
    "for i in range(3):\n",
    "    print(dfTrain['item_category_list_bin_%d'%i].unique())"
   ]
  },
  {
   "cell_type": "code",
   "execution_count": 22,
   "metadata": {
    "scrolled": true
   },
   "outputs": [],
   "source": [
    "tt = np.array(';'.join(dfTrain['item_property_list'].tolist()).split(';'))"
   ]
  },
  {
   "cell_type": "code",
   "execution_count": 26,
   "metadata": {},
   "outputs": [
    {
     "data": {
      "text/plain": [
       "(61407,)"
      ]
     },
     "execution_count": 26,
     "metadata": {},
     "output_type": "execute_result"
    }
   ],
   "source": [
    "np.unique(tt).shape"
   ]
  },
  {
   "cell_type": "code",
   "execution_count": 39,
   "metadata": {
    "scrolled": true
   },
   "outputs": [
    {
     "data": {
      "text/plain": [
       "Int64Index([6597981382309269962, 1932086538588242822, 8953967780295706657,\n",
       "            2025576994711098052, 4215742678121737516, 4300400395541925383,\n",
       "            5813143468854095050, 4954894036019286224, 5965128262672848132,\n",
       "            4413707559864701260,\n",
       "            ...\n",
       "            5394523850932456084, 7233126228408773348, 1329555954568296183,\n",
       "            8492909981978620547, 3190575743059897408,  491170600600448045,\n",
       "            6147737886549892275, 8583017644155961089, 6419968885868975562,\n",
       "            9208074232025895234],\n",
       "           dtype='int64', length=3502)"
      ]
     },
     "execution_count": 39,
     "metadata": {},
     "output_type": "execute_result"
    }
   ],
   "source": [
    "dfTrain['shop_id'].value_counts()[dfTrain['shop_id'].value_counts()>1].index"
   ]
  },
  {
   "cell_type": "code",
   "execution_count": 29,
   "metadata": {},
   "outputs": [
    {
     "data": {
      "text/plain": [
       "0"
      ]
     },
     "execution_count": 29,
     "metadata": {},
     "output_type": "execute_result"
    }
   ],
   "source": [
    "dfTrain.loc[dfTrain['user_id']==7201324926905945581,'is_trade']"
   ]
  },
  {
   "cell_type": "code",
   "execution_count": 34,
   "metadata": {
    "collapsed": true
   },
   "outputs": [],
   "source": [
    "def timestamp_datetime(value):\n",
    "    format = '%Y-%m-%d %H:%M:%S'\n",
    "    value = time.localtime(value)\n",
    "    dt = time.strftime(format, value)\n",
    "    return dt\n",
    "\n",
    "dfTrain['context_timestamp_date'] = dfTrain['context_timestamp'].map(timestamp_datetime).apply(lambda x: x[:10])\n",
    "dfTest['context_timestamp_date'] = dfTest['context_timestamp'].map(timestamp_datetime).apply(lambda x: x[:10])"
   ]
  },
  {
   "cell_type": "code",
   "execution_count": 35,
   "metadata": {},
   "outputs": [
    {
     "data": {
      "text/plain": [
       "2018-09-18    78268\n",
       "2018-09-21    71199\n",
       "2018-09-19    70931\n",
       "2018-09-20    68387\n",
       "2018-09-22    68318\n",
       "2018-09-23    63614\n",
       "2018-09-24    57421\n",
       "Name: context_timestamp_date, dtype: int64"
      ]
     },
     "execution_count": 35,
     "metadata": {},
     "output_type": "execute_result"
    }
   ],
   "source": [
    "dfTrain['context_timestamp_date'].value_counts()"
   ]
  },
  {
   "cell_type": "code",
   "execution_count": 33,
   "metadata": {},
   "outputs": [
    {
     "name": "stdout",
     "output_type": "stream",
     "text": [
      "2018-09-24 23:59:47\n",
      "2018-09-18 00:00:01\n",
      "2018-09-25 23:59:25\n",
      "2018-09-25 00:00:02\n"
     ]
    }
   ],
   "source": [
    "print(dfTrain['context_timestamp_date'].max())\n",
    "print(dfTrain['context_timestamp_date'].min())\n",
    "print(dfTest['context_timestamp_date'].max())\n",
    "print(dfTest['context_timestamp_date'].min())"
   ]
  },
  {
   "cell_type": "code",
   "execution_count": 36,
   "metadata": {},
   "outputs": [
    {
     "data": {
      "text/plain": [
       "(18371, 27)"
      ]
     },
     "execution_count": 36,
     "metadata": {},
     "output_type": "execute_result"
    }
   ],
   "source": [
    "dfTest.shape"
   ]
  },
  {
   "cell_type": "code",
   "execution_count": 15,
   "metadata": {
    "collapsed": true
   },
   "outputs": [],
   "source": [
    "for i in dfTrain['predict_category_property'].tolist()[:10]:\n",
    "    tmpDict ={}\n",
    "    for j in i.split(';'):\n",
    "        m,n = j.split(':')\n",
    "        tmpDict[m] = n.split(',')"
   ]
  },
  {
   "cell_type": "code",
   "execution_count": 39,
   "metadata": {
    "collapsed": true
   },
   "outputs": [],
   "source": [
    "def dictgen(i):\n",
    "    tmpDict ={}\n",
    "    for j in i.split(';'):\n",
    "        try:\n",
    "            m,n = j.split(':')\n",
    "            '''if not '-1' in n.split(','):\n",
    "                tmpDict[m] = len(n.split(','))'''\n",
    "            tmpDict[m] = len(n.split(',')) if not '-1' in n.split(',') else -1\n",
    "        except: \n",
    "                tmpDict ={'-1':'-1'}\n",
    "    return tmpDict"
   ]
  },
  {
   "cell_type": "code",
   "execution_count": 40,
   "metadata": {
    "collapsed": true
   },
   "outputs": [],
   "source": [
    "dfTrain['predict_category_property_dict'] = dfTrain['predict_category_property'].map(dictgen)"
   ]
  },
  {
   "cell_type": "code",
   "execution_count": 41,
   "metadata": {},
   "outputs": [
    {
     "data": {
      "text/plain": [
       "(478138, 1032)"
      ]
     },
     "execution_count": 41,
     "metadata": {},
     "output_type": "execute_result"
    }
   ],
   "source": [
    "from sklearn.feature_extraction import DictVectorizer\n",
    "v = DictVectorizer(sparse=True)\n",
    "X = v.fit_transform(dfTrain['predict_category_property_dict'].tolist())\n",
    "X.shape"
   ]
  },
  {
   "cell_type": "code",
   "execution_count": 38,
   "metadata": {},
   "outputs": [
    {
     "data": {
      "text/plain": [
       "[{'8277336076276184272': 1},\n",
       " {'5799347067982556520': 1, '7908382889764677758': 5},\n",
       " {'5799347067982556520': 1,\n",
       "  '7258015885215914736': 1,\n",
       "  '7908382889764677758': 1},\n",
       " {'1950314698730389427': 7,\n",
       "  '7492960463130085436': 1,\n",
       "  '7908382889764677758': 2},\n",
       " {'5799347067982556520': 1, '7908382889764677758': 1},\n",
       " {'4879721024980945592': 1,\n",
       "  '5799347067982556520': 1,\n",
       "  '7908382889764677758': 2},\n",
       " {'2011981573061447208': 1,\n",
       "  '7908382889764677758': 1,\n",
       "  '8277336076276184272': 1},\n",
       " {'2011981573061447208': 1,\n",
       "  '7908382889764677758': 1,\n",
       "  '8277336076276184272': 1},\n",
       " {'7908382889764677758': 1},\n",
       " {'5799347067982556520': 2, '8277336076276184272': 1}]"
      ]
     },
     "execution_count": 38,
     "metadata": {},
     "output_type": "execute_result"
    }
   ],
   "source": [
    "dfTrain['predict_category_property_dict'].tolist()[0:10]"
   ]
  },
  {
   "cell_type": "code",
   "execution_count": 44,
   "metadata": {
    "collapsed": true
   },
   "outputs": [],
   "source": [
    "idTrain = set(dfTrain.user_id.unique().tolist())\n",
    "idTest = set(dfTest.user_id.unique().tolist())"
   ]
  },
  {
   "cell_type": "code",
   "execution_count": 47,
   "metadata": {},
   "outputs": [
    {
     "name": "stdout",
     "output_type": "stream",
     "text": [
      "197694\n",
      "13573\n",
      "3626\n"
     ]
    }
   ],
   "source": [
    "print(len(idTrain))\n",
    "print(len(idTest))\n",
    "print(len(idTrain&idTest))\n"
   ]
  },
  {
   "cell_type": "code",
   "execution_count": 48,
   "metadata": {},
   "outputs": [
    {
     "data": {
      "text/plain": [
       "(478138, 27)"
      ]
     },
     "execution_count": 48,
     "metadata": {},
     "output_type": "execute_result"
    }
   ],
   "source": [
    "dfTrain.shape"
   ]
  },
  {
   "cell_type": "code",
   "execution_count": 49,
   "metadata": {},
   "outputs": [
    {
     "data": {
      "text/plain": [
       "(18371, 26)"
      ]
     },
     "execution_count": 49,
     "metadata": {},
     "output_type": "execute_result"
    }
   ],
   "source": [
    "dfTest.shape"
   ]
  },
  {
   "cell_type": "code",
   "execution_count": null,
   "metadata": {
    "collapsed": true
   },
   "outputs": [],
   "source": []
  },
  {
   "cell_type": "code",
   "execution_count": null,
   "metadata": {
    "collapsed": true
   },
   "outputs": [],
   "source": []
  },
  {
   "cell_type": "code",
   "execution_count": null,
   "metadata": {
    "collapsed": true
   },
   "outputs": [],
   "source": []
  },
  {
   "cell_type": "code",
   "execution_count": null,
   "metadata": {
    "collapsed": true
   },
   "outputs": [],
   "source": []
  },
  {
   "cell_type": "code",
   "execution_count": null,
   "metadata": {
    "collapsed": true
   },
   "outputs": [],
   "source": []
  },
  {
   "cell_type": "code",
   "execution_count": null,
   "metadata": {
    "collapsed": true
   },
   "outputs": [],
   "source": []
  },
  {
   "cell_type": "code",
   "execution_count": null,
   "metadata": {
    "collapsed": true
   },
   "outputs": [],
   "source": []
  }
 ],
 "metadata": {
  "kernelspec": {
   "display_name": "Python 3",
   "language": "python",
   "name": "python3"
  },
  "language_info": {
   "codemirror_mode": {
    "name": "ipython",
    "version": 3
   },
   "file_extension": ".py",
   "mimetype": "text/x-python",
   "name": "python",
   "nbconvert_exporter": "python",
   "pygments_lexer": "ipython3",
   "version": "3.6.3"
  }
 },
 "nbformat": 4,
 "nbformat_minor": 2
}
