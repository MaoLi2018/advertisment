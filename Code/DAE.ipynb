{
 "cells": [
  {
   "cell_type": "code",
   "execution_count": 1,
   "metadata": {
    "collapsed": true
   },
   "outputs": [],
   "source": [
    "%matplotlib inline\n",
    "import numpy as np\n",
    "import pandas as pd\n",
    "import time\n",
    "from sklearn.feature_extraction.text import CountVectorizer\n",
    "import config"
   ]
  },
  {
   "cell_type": "code",
   "execution_count": 2,
   "metadata": {
    "collapsed": true
   },
   "outputs": [],
   "source": [
    "def timestamp_datetime(value):\n",
    "    return time.strftime('%Y-%m-%d %H:%M:%S', time.localtime(value))\n",
    "\n",
    "def time_feat(df,featList,featName):\n",
    "    scaler = StandardScaler()\n",
    "    tmp = df.groupby(featList).size().reset_index().rename(columns={0:featName})\n",
    "    tmp[featName] = scaler.fit_transform(tmp[featName].values.reshape(-1,1))\n",
    "    df = df.merge(tmp,'left',on=featList)\n",
    "    return df\n",
    "\n",
    "def process(df):\n",
    "    df['time'] = df.context_timestamp.apply(timestamp_datetime)\n",
    "    df['day'] = df.time.apply(lambda x: int(x[8:10]))\n",
    "    df['hour'] = df.time.apply(lambda x: int(x[11:13]))\n",
    "    df['item_property_list_clean'] = df['item_property_list'].apply(lambda x:';'.join(sorted(set(str(x).split(';')))))\n",
    "    df[\"missing_feat\"] = np.sum((df == -1).values, axis=1)\n",
    "    return df"
   ]
  },
  {
   "cell_type": "code",
   "execution_count": 3,
   "metadata": {
    "collapsed": true
   },
   "outputs": [],
   "source": [
    "trainFile = 'round1_ijcai_18_train_20180301.txt'\n",
    "testFile = 'round1_ijcai_18_test_a_20180301.txt'\n",
    "dataDir = '../../Data/advertisment/Raw/'"
   ]
  },
  {
   "cell_type": "code",
   "execution_count": 4,
   "metadata": {
    "collapsed": true
   },
   "outputs": [],
   "source": [
    "dfTrain = pd.read_table(dataDir+trainFile,sep=' ')\n",
    "dfTrain.drop_duplicates(inplace=True)\n",
    "dfTest = pd.read_table(dataDir+testFile,sep=' ')\n",
    "\n",
    "dfTrain = process(dfTrain)\n",
    "dfTest = process(dfTest)"
   ]
  },
  {
   "cell_type": "code",
   "execution_count": 5,
   "metadata": {},
   "outputs": [
    {
     "data": {
      "text/plain": [
       "Index(['instance_id', 'item_id', 'item_category_list', 'item_property_list',\n",
       "       'item_brand_id', 'item_city_id', 'item_price_level', 'item_sales_level',\n",
       "       'item_collected_level', 'item_pv_level', 'user_id', 'user_gender_id',\n",
       "       'user_age_level', 'user_occupation_id', 'user_star_level', 'context_id',\n",
       "       'context_timestamp', 'context_page_id', 'predict_category_property',\n",
       "       'shop_id', 'shop_review_num_level', 'shop_review_positive_rate',\n",
       "       'shop_star_level', 'shop_score_service', 'shop_score_delivery',\n",
       "       'shop_score_description', 'is_trade', 'time', 'day', 'hour',\n",
       "       'item_property_list_clean', 'missing_feat'],\n",
       "      dtype='object')"
      ]
     },
     "execution_count": 5,
     "metadata": {},
     "output_type": "execute_result"
    }
   ],
   "source": [
    "dfTrain.columns"
   ]
  },
  {
   "cell_type": "code",
   "execution_count": 15,
   "metadata": {},
   "outputs": [
    {
     "name": "stdout",
     "output_type": "stream",
     "text": [
      "item_category_list 14\n",
      "['7908382889764677758;1968056100269760729', '7908382889764677758;2011981573061447208', '7908382889764677758;22731265849056483', '7908382889764677758;2436715285093487584', '7908382889764677758;2642175453151805566;6233669177166538628', '7908382889764677758;2642175453151805566;8868887661186419229', '7908382889764677758;3203673979138763595', '7908382889764677758;4879721024980945592', '7908382889764677758;509660095530134768', '7908382889764677758;5755694407684602296', '7908382889764677758;5799347067982556520', '7908382889764677758;7258015885215914736', '7908382889764677758;8277336076276184272', '7908382889764677758;8710739180200009128']\n",
      "item_property_list 10908\n",
      "item_brand_id 2055\n",
      "item_city_id 128\n",
      "[-1, 196257267849351217, 209109918333456044, 266534138255813526, 333440506879701736, 445518607167094136, 470140807240234049, 481482873950391103, 514694032262818403, 548352491538518780, 739849083029856578, 977185943282967113, 982582487743860343, 983006732149699580, 1019055478500227370, 1114691270281148507, 1409192320340625053, 1548565541085191105, 1608360359484386240, 1651749364812671046, 1659868702501373320, 1661833213317550436, 1904187424400452352, 2007021308771876996, 2022231041883668124, 2171543029187596030, 2174699138227015967, 2245236340473056111, 2336396634847254369, 2441251304977218559, 2441675549383057796, 2477724295733585586, 2532567935548697032, 2577951605337750872, 2606104910636876898, 2708227716133260388, 2833529017875751130, 2898261356495209345, 3122721854741763495, 3198713714849193383, 3211191583327403811, 3250914831627876149, 3382300273275090241, 3392874986167843711, 3508092439405455063, 3660951731540780082, 3716208830402148560, 3776439227963994256, 3819392654129628501, 3910415904247667078, 3948283326616421003, 3979267608276914880, 4083296682961047771, 4228028106931716766, 4259583541340594441, 4350273094117089600, 4374800994578205793, 4385375707470959263, 4556484397418645693, 4571260814718825928, 4644954126004286009, 4696414479261711366, 4700646804028305048, 4814326104676768998, 4897150163344753705, 4899814843172066235, 4918413420989329604, 4933623154101120732, 5161571070109172606, 5170960014354231267, 5211112922919195873, 5241131667453229016, 5326000431362991708, 5727554123450503368, 5781917929618748407, 5808941911350447816, 5838099002455053655, 5884877103856494393, 5918626470536001929, 5978421288935197064, 5988548075011636636, 6015153214652003909, 6022410898911278879, 6027631083130214337, 6122583695544856419, 6154585379646116922, 6219110439660858399, 6353263476186488993, 6419484551622907671, 6620239887342530822, 6652984710464900997, 6738283504825746594, 6772615624523978733, 6784669248596349924, 6785093493002189161, 6973610335696064794, 7051154795364517673, 7219323489207530724, 7296767819688411871, 7322157373578955368, 7433943245423082092, 7534238860363577544, 7566476095478034400, 7599123333627852867, 7604343517846788325, 7968875866014064608, 7997974227049795263, 8034210119001863030, 8059836771696705787, 8072963182326625214, 8084791051540705017, 8201343797229916526, 8213194587913143640, 8221750265705823825, 8237816787986283553, 8240548652619864253, 8480550192700287318, 8519578687848277273, 8747526603856329147, 8762827044490678569, 8774880668563049760, 8835551476805511776, 8933803011128731487, 8939023195347666945, 8969611739750220759, 9070707733479115872, 9088192369782437159, 9151270500179171459]\n",
      "item_price_level 14\n",
      "[0, 1, 2, 3, 4, 5, 6, 7, 8, 9, 10, 11, 16, 17]\n",
      "item_sales_level 18\n",
      "[-1, 1, 2, 3, 4, 5, 6, 7, 8, 9, 10, 11, 12, 13, 14, 15, 16, 17]\n",
      "item_collected_level 18\n",
      "[0, 1, 2, 3, 4, 5, 6, 7, 8, 9, 10, 11, 12, 13, 14, 15, 16, 17]\n",
      "item_pv_level 22\n",
      "[0, 1, 2, 3, 4, 5, 6, 7, 8, 9, 10, 11, 12, 13, 14, 15, 16, 17, 18, 19, 20, 21]\n",
      "user_gender_id 4\n",
      "[-1, 0, 1, 2]\n",
      "user_age_level 9\n",
      "[-1, 1000, 1001, 1002, 1003, 1004, 1005, 1006, 1007]\n",
      "user_occupation_id 5\n",
      "[-1, 2002, 2003, 2004, 2005]\n",
      "user_star_level 12\n",
      "[-1, 3000, 3001, 3002, 3003, 3004, 3005, 3006, 3007, 3008, 3009, 3010]\n",
      "context_page_id 20\n",
      "[4001, 4002, 4003, 4004, 4005, 4006, 4007, 4008, 4009, 4010, 4011, 4012, 4013, 4014, 4015, 4016, 4017, 4018, 4019, 4020]\n",
      "predict_category_property 78796\n",
      "shop_review_num_level 25\n",
      "[0, 1, 2, 3, 4, 5, 6, 7, 8, 9, 10, 11, 12, 13, 14, 15, 16, 17, 18, 19, 20, 21, 22, 23, 25]\n",
      "shop_star_level 22\n",
      "[4999, 5000, 5001, 5002, 5003, 5004, 5005, 5006, 5007, 5008, 5009, 5010, 5011, 5012, 5013, 5014, 5015, 5016, 5017, 5018, 5019, 5020]\n",
      "time 281824\n",
      "day 7\n",
      "[18, 19, 20, 21, 22, 23, 24]\n",
      "hour 24\n",
      "[0, 1, 2, 3, 4, 5, 6, 7, 8, 9, 10, 11, 12, 13, 14, 15, 16, 17, 18, 19, 20, 21, 22, 23]\n",
      "item_property_list_clean 10908\n",
      "missing_feat 7\n",
      "[0, 1, 2, 3, 4, 5, 7]\n"
     ]
    }
   ],
   "source": [
    "for var in dfTrain:\n",
    "    if var not in config.KEYS+['context_timestamp']+config.NUMERIC_COLS:\n",
    "        print(var,dfTrain[var].nunique())\n",
    "        if dfTrain[var].nunique()>200:\n",
    "            continue\n",
    "        print(sorted(dfTrain[var].unique().tolist()))"
   ]
  },
  {
   "cell_type": "code",
   "execution_count": 8,
   "metadata": {},
   "outputs": [
    {
     "data": {
      "text/plain": [
       "['instance_id', 'user_id', 'context_id', 'is_trade', 'shop_id', 'item_id']"
      ]
     },
     "execution_count": 8,
     "metadata": {},
     "output_type": "execute_result"
    }
   ],
   "source": []
  },
  {
   "cell_type": "code",
   "execution_count": null,
   "metadata": {
    "collapsed": true
   },
   "outputs": [],
   "source": []
  },
  {
   "cell_type": "code",
   "execution_count": null,
   "metadata": {
    "collapsed": true
   },
   "outputs": [],
   "source": []
  },
  {
   "cell_type": "code",
   "execution_count": null,
   "metadata": {
    "collapsed": true
   },
   "outputs": [],
   "source": []
  },
  {
   "cell_type": "code",
   "execution_count": null,
   "metadata": {
    "collapsed": true
   },
   "outputs": [],
   "source": []
  },
  {
   "cell_type": "code",
   "execution_count": null,
   "metadata": {
    "collapsed": true
   },
   "outputs": [],
   "source": []
  },
  {
   "cell_type": "code",
   "execution_count": null,
   "metadata": {},
   "outputs": [],
   "source": [
    "tmp = dfTrain.loc[dfTrain.duplicated(['user_id','item_id'],False)]\n",
    "#.sort_values(['user_id','item_id','context_timestamp'])['is_trade'].mean()\n",
    "\n",
    "tmp['Rank'] = tmp.groupby(['user_id','item_id'])['context_timestamp'].rank()\n"
   ]
  },
  {
   "cell_type": "code",
   "execution_count": null,
   "metadata": {
    "collapsed": true
   },
   "outputs": [],
   "source": [
    "dfTrain['user_cnt'] = dfTrain.groupby(['user_id'], as_index=False)['instance_id'].agg({'user_cnt': 'count'})['user_cnt']\n",
    "for col in ['user_gender_id']:\n",
    "    itemcnt = dfTrain.groupby([col, 'user_id'], as_index=False)['instance_id'].agg({str(col) + '_user_cnt': 'count'})"
   ]
  },
  {
   "cell_type": "code",
   "execution_count": null,
   "metadata": {
    "collapsed": true,
    "scrolled": true
   },
   "outputs": [],
   "source": [
    "tmp = dfTrain.drop_duplicates(['user_id','user_gender_id'])\n",
    "user_list = tmp['user_id'].value_counts()[tmp['user_id'].value_counts()>1].index"
   ]
  },
  {
   "cell_type": "code",
   "execution_count": null,
   "metadata": {},
   "outputs": [],
   "source": [
    "dfTrain.loc[dfTrain['user_id'].isin(user_list),'is_trade'].count()"
   ]
  },
  {
   "cell_type": "code",
   "execution_count": null,
   "metadata": {
    "scrolled": true
   },
   "outputs": [],
   "source": [
    "itemcnt"
   ]
  },
  {
   "cell_type": "code",
   "execution_count": null,
   "metadata": {},
   "outputs": [],
   "source": [
    "tmp.groupby('Rank')['is_trade'].mean()"
   ]
  },
  {
   "cell_type": "code",
   "execution_count": null,
   "metadata": {
    "scrolled": true
   },
   "outputs": [],
   "source": [
    "dfTrain.loc[dfTrain.duplicated(['user_id','item_id'],False)].sort_values(['user_id','item_id','context_timestamp'])[config.KEYS+['context_timestamp']]"
   ]
  },
  {
   "cell_type": "code",
   "execution_count": null,
   "metadata": {
    "collapsed": true
   },
   "outputs": [],
   "source": [
    "print(dfTest.user_id.nunique()*1.0/dfTest.shape[0])\n",
    "print(dfTrain.user_id.nunique()*1.0/dfTrain.shape[0])"
   ]
  },
  {
   "cell_type": "code",
   "execution_count": null,
   "metadata": {
    "collapsed": true
   },
   "outputs": [],
   "source": [
    "1/(dfTest.user_id.nunique()*1.0/dfTest.shape[0])"
   ]
  },
  {
   "cell_type": "code",
   "execution_count": null,
   "metadata": {
    "collapsed": true
   },
   "outputs": [],
   "source": [
    "1/(dfTrain.user_id.nunique()*1.0/dfTrain.shape[0])"
   ]
  },
  {
   "cell_type": "code",
   "execution_count": null,
   "metadata": {
    "scrolled": true
   },
   "outputs": [],
   "source": [
    "dfTest.item_category_list"
   ]
  },
  {
   "cell_type": "code",
   "execution_count": null,
   "metadata": {},
   "outputs": [],
   "source": [
    "dfTest.user_id.value_counts().describe()"
   ]
  },
  {
   "cell_type": "code",
   "execution_count": null,
   "metadata": {},
   "outputs": [],
   "source": [
    "a = -0.31284*18371/(-0.31284-18.10784)\n",
    "print(a)\n",
    "312/18371"
   ]
  },
  {
   "cell_type": "code",
   "execution_count": null,
   "metadata": {
    "collapsed": true
   },
   "outputs": [],
   "source": [
    "-0.31284*18371"
   ]
  },
  {
   "cell_type": "code",
   "execution_count": null,
   "metadata": {},
   "outputs": [],
   "source": [
    "import sys\n",
    "np.log(sys.float_info.epsilon)"
   ]
  },
  {
   "cell_type": "code",
   "execution_count": null,
   "metadata": {
    "scrolled": true
   },
   "outputs": [],
   "source": [
    "dfTest.user_id.value_counts().reset_index()"
   ]
  },
  {
   "cell_type": "code",
   "execution_count": null,
   "metadata": {
    "scrolled": true
   },
   "outputs": [],
   "source": [
    "for i in dfTrain.day.unique():\n",
    "    print(i)\n",
    "    print('\\n')\n",
    "    tmp = dfTrain.loc[dfTrain.day==i]\n",
    "    #tmp = tmp.merge(tmp.user_id.value_counts().reset_index(),'inner',left_on='user_id',right_on='index')\n",
    "    tmp['rank'] = tmp.groupby('user_id')['context_timestamp'].rank(method='first')\n",
    "    print(pd.concat([tmp.groupby('rank')['is_trade'].mean(),tmp.groupby('rank')['is_trade'].count()],axis=1))\n",
    "    "
   ]
  },
  {
   "cell_type": "code",
   "execution_count": null,
   "metadata": {},
   "outputs": [],
   "source": [
    "tmp.groupby('rank')['is_trade'].count().plot()"
   ]
  },
  {
   "cell_type": "code",
   "execution_count": null,
   "metadata": {},
   "outputs": [],
   "source": [
    "tmp.groupby('rank')['is_trade'].mean().plot()"
   ]
  },
  {
   "cell_type": "code",
   "execution_count": null,
   "metadata": {
    "collapsed": true
   },
   "outputs": [],
   "source": [
    "import config\n",
    "dfTrain.loc[dfTrain['rank']==4.5].sort_values('user_id')[config.KEYS]"
   ]
  },
  {
   "cell_type": "code",
   "execution_count": null,
   "metadata": {},
   "outputs": [],
   "source": [
    "dfTrain.drop_duplicates(['context_id','context_timestamp']).shape"
   ]
  },
  {
   "cell_type": "code",
   "execution_count": null,
   "metadata": {},
   "outputs": [],
   "source": [
    "dfTrain.context_timestamp.nunique()"
   ]
  },
  {
   "cell_type": "code",
   "execution_count": null,
   "metadata": {
    "collapsed": true
   },
   "outputs": [],
   "source": [
    "count = CountVectorizer(ngram_range=(1,1))\n",
    "tt =count.fit_transform(dfTrain['item_property_list'].apply(lambda x: x.replace(';',' ')))"
   ]
  },
  {
   "cell_type": "code",
   "execution_count": null,
   "metadata": {
    "collapsed": true
   },
   "outputs": [],
   "source": [
    "dfTrain['item_property_list'].apply(lambda x:';'.join(sorted(set(x.split(';'))))).value_counts()"
   ]
  },
  {
   "cell_type": "code",
   "execution_count": null,
   "metadata": {
    "collapsed": true
   },
   "outputs": [],
   "source": [
    "def string_process(df):\n",
    "    "
   ]
  },
  {
   "cell_type": "code",
   "execution_count": null,
   "metadata": {
    "collapsed": true
   },
   "outputs": [],
   "source": [
    "grouped = dfTrain.groupby(['context_page_id'])\n",
    "\n",
    "grouped['is_trade'].agg('mean').sort_index(ascending=True)"
   ]
  },
  {
   "cell_type": "code",
   "execution_count": null,
   "metadata": {
    "collapsed": true
   },
   "outputs": [],
   "source": [
    "dfTrain.loc[dfTrain['user_id']==5730330586479721983]"
   ]
  },
  {
   "cell_type": "code",
   "execution_count": null,
   "metadata": {
    "collapsed": true
   },
   "outputs": [],
   "source": []
  },
  {
   "cell_type": "code",
   "execution_count": null,
   "metadata": {
    "collapsed": true
   },
   "outputs": [],
   "source": []
  },
  {
   "cell_type": "code",
   "execution_count": null,
   "metadata": {
    "collapsed": true
   },
   "outputs": [],
   "source": [
    "tt.data.max()"
   ]
  },
  {
   "cell_type": "code",
   "execution_count": null,
   "metadata": {
    "collapsed": true
   },
   "outputs": [],
   "source": []
  },
  {
   "cell_type": "code",
   "execution_count": null,
   "metadata": {
    "collapsed": true
   },
   "outputs": [],
   "source": [
    "dfTrain.dtypes"
   ]
  },
  {
   "cell_type": "code",
   "execution_count": null,
   "metadata": {
    "collapsed": true
   },
   "outputs": [],
   "source": [
    "dfTrain.head(5)"
   ]
  },
  {
   "cell_type": "code",
   "execution_count": null,
   "metadata": {
    "collapsed": true
   },
   "outputs": [],
   "source": [
    "dfTrain['predict_category_property_bin'] = dfTrain['predict_category_property'].apply(lambda x: x.count(';'))\n",
    "dfTrain['predict_category_property_bin'].describe()"
   ]
  },
  {
   "cell_type": "code",
   "execution_count": null,
   "metadata": {
    "collapsed": true
   },
   "outputs": [],
   "source": [
    "dfTrain.loc[dfTrain['predict_category_property_bin']==0,'predict_category_property']"
   ]
  },
  {
   "cell_type": "code",
   "execution_count": null,
   "metadata": {
    "collapsed": true
   },
   "outputs": [],
   "source": [
    "for i in range(3):\n",
    "    print(dfTrain['item_category_list_bin_%d'%i].unique())"
   ]
  },
  {
   "cell_type": "code",
   "execution_count": null,
   "metadata": {
    "collapsed": true,
    "scrolled": true
   },
   "outputs": [],
   "source": [
    "tt = np.array(';'.join(dfTrain['item_property_list'].tolist()).split(';'))"
   ]
  },
  {
   "cell_type": "code",
   "execution_count": null,
   "metadata": {
    "collapsed": true
   },
   "outputs": [],
   "source": [
    "np.unique(tt).shape"
   ]
  },
  {
   "cell_type": "code",
   "execution_count": null,
   "metadata": {
    "collapsed": true,
    "scrolled": true
   },
   "outputs": [],
   "source": [
    "dfTrain['shop_id'].value_counts()[dfTrain['shop_id'].value_counts()>1].index"
   ]
  },
  {
   "cell_type": "code",
   "execution_count": null,
   "metadata": {
    "collapsed": true
   },
   "outputs": [],
   "source": [
    "dfTrain.loc[dfTrain['user_id']==7201324926905945581,'is_trade']"
   ]
  },
  {
   "cell_type": "code",
   "execution_count": null,
   "metadata": {
    "collapsed": true
   },
   "outputs": [],
   "source": [
    "def timestamp_datetime(value):\n",
    "    format = '%Y-%m-%d %H:%M:%S'\n",
    "    value = time.localtime(value)\n",
    "    dt = time.strftime(format, value)\n",
    "    return dt\n",
    "\n",
    "dfTrain['context_timestamp_date'] = dfTrain['context_timestamp'].map(timestamp_datetime).apply(lambda x: x[:10])\n",
    "dfTest['context_timestamp_date'] = dfTest['context_timestamp'].map(timestamp_datetime).apply(lambda x: x[:10])"
   ]
  },
  {
   "cell_type": "code",
   "execution_count": null,
   "metadata": {
    "collapsed": true
   },
   "outputs": [],
   "source": [
    "dfTrain['context_timestamp_date'].value_counts()"
   ]
  },
  {
   "cell_type": "code",
   "execution_count": null,
   "metadata": {
    "collapsed": true
   },
   "outputs": [],
   "source": [
    "dfTrain.groupby(['context_timestamp_date'])['is_trade'].mean()"
   ]
  },
  {
   "cell_type": "code",
   "execution_count": null,
   "metadata": {
    "collapsed": true
   },
   "outputs": [],
   "source": [
    "print(dfTrain['context_timestamp_date'].max())\n",
    "print(dfTrain['context_timestamp_date'].min())\n",
    "print(dfTest['context_timestamp_date'].max())\n",
    "print(dfTest['context_timestamp_date'].min())"
   ]
  },
  {
   "cell_type": "code",
   "execution_count": null,
   "metadata": {
    "collapsed": true
   },
   "outputs": [],
   "source": [
    "dfTest.shape"
   ]
  },
  {
   "cell_type": "code",
   "execution_count": null,
   "metadata": {
    "collapsed": true
   },
   "outputs": [],
   "source": [
    "for i in dfTrain['predict_category_property'].tolist()[:10]:\n",
    "    tmpDict ={}\n",
    "    for j in i.split(';'):\n",
    "        m,n = j.split(':')\n",
    "        tmpDict[m] = n.split(',')"
   ]
  },
  {
   "cell_type": "code",
   "execution_count": null,
   "metadata": {
    "collapsed": true
   },
   "outputs": [],
   "source": [
    "def dictgen(i):\n",
    "    tmpDict ={}\n",
    "    for j in i.split(';'):\n",
    "        try:\n",
    "            m,n = j.split(':')\n",
    "            '''if not '-1' in n.split(','):\n",
    "                tmpDict[m] = len(n.split(','))'''\n",
    "            tmpDict[m] = len(n.split(',')) if not '-1' in n.split(',') else -1\n",
    "        except: \n",
    "                tmpDict ={'-1':'-1'}\n",
    "    return tmpDict"
   ]
  },
  {
   "cell_type": "code",
   "execution_count": null,
   "metadata": {
    "collapsed": true
   },
   "outputs": [],
   "source": [
    "dfTrain['predict_category_property_dict'] = dfTrain['predict_category_property'].map(dictgen)"
   ]
  },
  {
   "cell_type": "code",
   "execution_count": null,
   "metadata": {
    "collapsed": true
   },
   "outputs": [],
   "source": [
    "from sklearn.feature_extraction import DictVectorizer\n",
    "v = DictVectorizer(sparse=True)\n",
    "X = v.fit_transform(dfTrain['predict_category_property_dict'].tolist())\n",
    "X.shape"
   ]
  },
  {
   "cell_type": "code",
   "execution_count": null,
   "metadata": {
    "collapsed": true
   },
   "outputs": [],
   "source": [
    "dfTrain['predict_category_property_dict'].tolist()[0:10]"
   ]
  },
  {
   "cell_type": "code",
   "execution_count": null,
   "metadata": {
    "collapsed": true
   },
   "outputs": [],
   "source": [
    "idTrain = set(dfTrain.user_id.unique().tolist())\n",
    "idTest = set(dfTest.user_id.unique().tolist())"
   ]
  },
  {
   "cell_type": "code",
   "execution_count": null,
   "metadata": {
    "collapsed": true
   },
   "outputs": [],
   "source": [
    "print(len(idTrain))\n",
    "print(len(idTest))\n",
    "print(len(idTrain&idTest))\n"
   ]
  },
  {
   "cell_type": "code",
   "execution_count": null,
   "metadata": {
    "collapsed": true
   },
   "outputs": [],
   "source": [
    "dfTrain.shape"
   ]
  },
  {
   "cell_type": "code",
   "execution_count": null,
   "metadata": {
    "collapsed": true
   },
   "outputs": [],
   "source": [
    "dfTest.shape"
   ]
  },
  {
   "cell_type": "code",
   "execution_count": null,
   "metadata": {
    "collapsed": true
   },
   "outputs": [],
   "source": [
    "np.log(0.95)"
   ]
  },
  {
   "cell_type": "code",
   "execution_count": null,
   "metadata": {
    "collapsed": true
   },
   "outputs": [],
   "source": [
    "1.5/180000"
   ]
  },
  {
   "cell_type": "code",
   "execution_count": null,
   "metadata": {
    "collapsed": true
   },
   "outputs": [],
   "source": []
  },
  {
   "cell_type": "code",
   "execution_count": null,
   "metadata": {
    "collapsed": true
   },
   "outputs": [],
   "source": []
  },
  {
   "cell_type": "code",
   "execution_count": null,
   "metadata": {
    "collapsed": true
   },
   "outputs": [],
   "source": []
  },
  {
   "cell_type": "code",
   "execution_count": null,
   "metadata": {
    "collapsed": true
   },
   "outputs": [],
   "source": []
  },
  {
   "cell_type": "code",
   "execution_count": null,
   "metadata": {
    "collapsed": true
   },
   "outputs": [],
   "source": []
  }
 ],
 "metadata": {
  "kernelspec": {
   "display_name": "Python 3",
   "language": "python",
   "name": "python3"
  },
  "language_info": {
   "codemirror_mode": {
    "name": "ipython",
    "version": 3
   },
   "file_extension": ".py",
   "mimetype": "text/x-python",
   "name": "python",
   "nbconvert_exporter": "python",
   "pygments_lexer": "ipython3",
   "version": "3.6.3"
  }
 },
 "nbformat": 4,
 "nbformat_minor": 2
}
