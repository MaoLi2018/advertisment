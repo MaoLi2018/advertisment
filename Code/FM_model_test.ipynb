{
 "cells": [
  {
   "cell_type": "code",
   "execution_count": 1,
   "metadata": {},
   "outputs": [],
   "source": [
    "import pandas as pd\n",
    "import numpy as np\n",
    "import time\n",
    "import sys\n",
    "sys.path.append('tools/tensorflow-DeepFM-master/')\n",
    "\n",
    "import config\n",
    "import DataReader\n",
    "from DeepFM import DeepFM\n",
    "\n",
    "\n",
    "\n",
    "\n",
    "import tensorflow as tf\n",
    "\n",
    "from sklearn.model_selection import KFold,StratifiedKFold\n",
    "from sklearn.metrics import log_loss,roc_auc_score\n"
   ]
  },
  {
   "cell_type": "markdown",
   "metadata": {},
   "source": [
    "<font color=#0099ff size=5 face=\"黑体\">固定函数</font>"
   ]
  },
  {
   "cell_type": "code",
   "execution_count": 2,
   "metadata": {
    "collapsed": true
   },
   "outputs": [],
   "source": [
    "def timestamp_datetime(value):\n",
    "    format = '%Y-%m-%d %H:%M:%S'\n",
    "    value = time.localtime(value)\n",
    "    dt = time.strftime(format, value)\n",
    "    return value.tm_hour\n",
    "\n",
    "def process(df):\n",
    "    cols = [c for c in df.columns if c not in config.KEYS]\n",
    "    for i in range(1,3):\n",
    "        df['item_category_list_bin_%d'%i] = df['item_category_list'].apply(lambda x: x.split(';')[i] if len(x.split(';'))>i else -1)\n",
    "    df[\"missing_feat\"] = np.sum((df[cols] == -1).values, axis=1)\n",
    "    df['context_timestamp_hour'] = df['context_timestamp'].map(timestamp_datetime)   \n",
    "    return df"
   ]
  },
  {
   "cell_type": "markdown",
   "metadata": {},
   "source": [
    "<font color=#0099ff size=5 face=\"黑体\">读取数据</font>"
   ]
  },
  {
   "cell_type": "code",
   "execution_count": 3,
   "metadata": {},
   "outputs": [
    {
     "data": {
      "text/plain": [
       "'TrainX = dfTrain[featInput].values\\nTestX = dfTest[featInput].values\\nTrainy = dfTrain[config.LABEL].values'"
      ]
     },
     "execution_count": 3,
     "metadata": {},
     "output_type": "execute_result"
    }
   ],
   "source": [
    "dfTrain = pd.read_table(config.TRAIN_FILE,sep=' ')\n",
    "dfTest = pd.read_table(config.TEST_FILE,sep=' ')\n",
    "\n",
    "dfTrain = process(dfTrain)\n",
    "dfTest = process(dfTest)\n",
    "\n",
    "featInput = [c for c in dfTrain.columns if c not in config.KEYS]\n",
    "featInput = [c for c in featInput if (not c in config.IGNORE_COLS)]\n",
    "\n",
    "'''TrainX = dfTrain[featInput].values\n",
    "TestX = dfTest[featInput].values\n",
    "Trainy = dfTrain[config.LABEL].values'''"
   ]
  },
  {
   "cell_type": "markdown",
   "metadata": {},
   "source": [
    "<font color=#0099ff size=5 face=\"黑体\">生成稀疏特征</font>"
   ]
  },
  {
   "cell_type": "code",
   "execution_count": 4,
   "metadata": {},
   "outputs": [],
   "source": [
    "fd = DataReader.FeatureDictionary(dfTrain=dfTrain, dfTest=dfTest,\n",
    "                           numeric_cols=config.NUMERIC_COLS,\n",
    "                           ignore_cols=config.IGNORE_COLS,\n",
    "                           active_bound=1 )\n",
    "data_parser = DataReader.DataParser(feat_dict=fd)\n",
    "Xi_train, Xv_train, y_train = data_parser.parse(df=dfTrain, has_label=True)\n",
    "Xi_test, Xv_test, ids_test = data_parser.parse(df=dfTest)"
   ]
  },
  {
   "cell_type": "markdown",
   "metadata": {},
   "source": [
    "<font color=#0099ff size=5 face=\"黑体\">设置模型参数</font>"
   ]
  },
  {
   "cell_type": "code",
   "execution_count": 7,
   "metadata": {},
   "outputs": [
    {
     "name": "stdout",
     "output_type": "stream",
     "text": [
      "2158\n"
     ]
    }
   ],
   "source": [
    "dfm_params = {\n",
    "    \"use_fm\": True,\n",
    "    \"use_deep\": True,\n",
    "    \"embedding_size\": 8,\n",
    "    \"dropout_fm\": [1.0, 1.0],\n",
    "    \"deep_layers\": [32, 32],\n",
    "    \"dropout_deep\": [0.5, 0.5, 0.5],\n",
    "    \"deep_layers_activation\": tf.nn.relu,\n",
    "    \"epoch\": 20,\n",
    "    \"batch_size\": 1024,\n",
    "    \"learning_rate\": 0.001,\n",
    "    \"optimizer_type\": \"adam\",\n",
    "    \"batch_norm\": 1,\n",
    "    \"batch_norm_decay\": 0.995,\n",
    "    \"l2_reg\": 0.01,\n",
    "    \"verbose\": True,\n",
    "    \"eval_metric\": log_loss,\n",
    "    \"random_seed\": config.RANDOM_SEED\n",
    "}\n",
    "dfm_params[\"feature_size\"] = fd.feat_dim\n",
    "dfm_params[\"field_size\"] = len(Xi_train[0])\n",
    "print(dfm_params[\"feature_size\"])"
   ]
  },
  {
   "cell_type": "code",
   "execution_count": 8,
   "metadata": {
    "scrolled": true
   },
   "outputs": [
    {
     "name": "stdout",
     "output_type": "stream",
     "text": [
      "#params: 25948\n",
      "[1] train-result=0.1147, valid-result=0.1198 [18.9 s]\n",
      "[2] train-result=0.1007, valid-result=0.1070 [18.5 s]\n",
      "[3] train-result=0.0961, valid-result=0.1003 [17.9 s]\n",
      "[4] train-result=0.0910, valid-result=0.0944 [17.7 s]\n",
      "[5] train-result=0.0898, valid-result=0.0931 [18.5 s]\n",
      "[6] train-result=0.0886, valid-result=0.0918 [17.8 s]\n",
      "[7] train-result=0.0878, valid-result=0.0917 [17.9 s]\n",
      "[8] train-result=0.0877, valid-result=0.0916 [18.2 s]\n",
      "[9] train-result=0.0878, valid-result=0.0916 [17.9 s]\n",
      "[10] train-result=0.0876, valid-result=0.0917 [17.8 s]\n",
      "[11] train-result=0.0874, valid-result=0.0917 [18.1 s]\n",
      "[12] train-result=0.0873, valid-result=0.0916 [18.3 s]\n",
      "[13] train-result=0.0875, valid-result=0.0915 [18.4 s]\n",
      "[14] train-result=0.0872, valid-result=0.0917 [19.3 s]\n",
      "[15] train-result=0.0872, valid-result=0.0916 [18.4 s]\n",
      "[16] train-result=0.0872, valid-result=0.0917 [18.1 s]\n",
      "[17] train-result=0.0873, valid-result=0.0917 [19.2 s]\n",
      "[18] train-result=0.0870, valid-result=0.0920 [18.8 s]\n",
      "[19] train-result=0.0871, valid-result=0.0916 [18.6 s]\n",
      "[20] train-result=0.0869, valid-result=0.0919 [18.9 s]\n",
      "#params: 25948\n",
      "[1] train-result=0.1116, valid-result=0.1109 [18.4 s]\n",
      "[2] train-result=0.0980, valid-result=0.0958 [18.8 s]\n",
      "[3] train-result=0.0948, valid-result=0.0924 [18.7 s]\n",
      "[4] train-result=0.0932, valid-result=0.0931 [18.4 s]\n",
      "[5] train-result=0.0916, valid-result=0.0913 [18.7 s]\n",
      "[6] train-result=0.0905, valid-result=0.0898 [18.4 s]\n",
      "[7] train-result=0.0909, valid-result=0.0895 [18.5 s]\n",
      "[8] train-result=0.0902, valid-result=0.0886 [18.9 s]\n",
      "[9] train-result=0.0892, valid-result=0.0885 [18.6 s]\n",
      "[10] train-result=0.0887, valid-result=0.0882 [18.5 s]\n",
      "[11] train-result=0.0888, valid-result=0.0885 [18.8 s]\n",
      "[12] train-result=0.0884, valid-result=0.0883 [18.2 s]\n",
      "[13] train-result=0.0883, valid-result=0.0878 [18.5 s]\n",
      "[14] train-result=0.0887, valid-result=0.0880 [18.8 s]\n",
      "[15] train-result=0.0883, valid-result=0.0883 [18.5 s]\n",
      "[16] train-result=0.0884, valid-result=0.0882 [20.8 s]\n",
      "[17] train-result=0.0883, valid-result=0.0883 [19.0 s]\n",
      "[18] train-result=0.0884, valid-result=0.0882 [18.3 s]\n",
      "[19] train-result=0.0881, valid-result=0.0883 [19.1 s]\n",
      "[20] train-result=0.0884, valid-result=0.0879 [18.7 s]\n",
      "#params: 25948\n",
      "[1] train-result=0.1304, valid-result=0.1394 [18.3 s]\n",
      "[2] train-result=0.1091, valid-result=0.1142 [19.4 s]\n",
      "[3] train-result=0.1123, valid-result=0.1013 [20.3 s]\n",
      "[4] train-result=0.0973, valid-result=0.1029 [19.5 s]\n",
      "[5] train-result=0.0945, valid-result=0.0998 [19.0 s]\n",
      "[6] train-result=0.0926, valid-result=0.0985 [18.2 s]\n",
      "[7] train-result=0.0926, valid-result=0.0939 [18.5 s]\n",
      "[8] train-result=0.0901, valid-result=0.0933 [19.0 s]\n",
      "[9] train-result=0.0892, valid-result=0.0931 [18.8 s]\n",
      "[10] train-result=0.0888, valid-result=0.0928 [20.1 s]\n",
      "[11] train-result=0.0885, valid-result=0.0922 [19.0 s]\n",
      "[12] train-result=0.0880, valid-result=0.0925 [18.5 s]\n",
      "[13] train-result=0.0883, valid-result=0.0921 [18.6 s]\n",
      "[14] train-result=0.0878, valid-result=0.0921 [19.1 s]\n",
      "[15] train-result=0.0878, valid-result=0.0921 [18.6 s]\n",
      "[16] train-result=0.0876, valid-result=0.0920 [18.3 s]\n",
      "[17] train-result=0.0877, valid-result=0.0925 [19.0 s]\n",
      "[18] train-result=0.0878, valid-result=0.0924 [18.7 s]\n",
      "[19] train-result=0.0875, valid-result=0.0922 [18.9 s]\n",
      "[20] train-result=0.0874, valid-result=0.0921 [19.1 s]\n",
      "#params: 25948\n",
      "[1] train-result=0.1252, valid-result=0.1264 [19.6 s]\n",
      "[2] train-result=0.0974, valid-result=0.0954 [19.0 s]\n",
      "[3] train-result=0.0952, valid-result=0.0939 [18.8 s]\n",
      "[4] train-result=0.0948, valid-result=0.0934 [18.6 s]\n",
      "[5] train-result=0.0924, valid-result=0.0920 [18.8 s]\n",
      "[6] train-result=0.0914, valid-result=0.0907 [19.1 s]\n",
      "[7] train-result=0.0908, valid-result=0.0904 [22.7 s]\n",
      "[8] train-result=0.0902, valid-result=0.0895 [19.0 s]\n",
      "[9] train-result=0.0901, valid-result=0.0894 [21.3 s]\n",
      "[10] train-result=0.0889, valid-result=0.0889 [19.1 s]\n",
      "[11] train-result=0.0889, valid-result=0.0887 [20.4 s]\n",
      "[12] train-result=0.0887, valid-result=0.0887 [17.9 s]\n",
      "[13] train-result=0.0885, valid-result=0.0885 [18.9 s]\n",
      "[14] train-result=0.0886, valid-result=0.0885 [19.5 s]\n",
      "[15] train-result=0.0882, valid-result=0.0885 [18.1 s]\n",
      "[16] train-result=0.0883, valid-result=0.0884 [18.7 s]\n",
      "[17] train-result=0.0883, valid-result=0.0888 [18.3 s]\n",
      "[18] train-result=0.0883, valid-result=0.0882 [18.4 s]\n",
      "[19] train-result=0.0881, valid-result=0.0886 [18.5 s]\n",
      "[20] train-result=0.0880, valid-result=0.0887 [19.4 s]\n",
      "#params: 25948\n",
      "[1] train-result=0.1192, valid-result=0.1218 [19.9 s]\n",
      "[2] train-result=0.1005, valid-result=0.1090 [18.4 s]\n",
      "[3] train-result=0.0997, valid-result=0.1058 [18.0 s]\n",
      "[4] train-result=0.0953, valid-result=0.0993 [17.7 s]\n",
      "[5] train-result=0.0934, valid-result=0.0969 [19.1 s]\n",
      "[6] train-result=0.0920, valid-result=0.0950 [17.9 s]\n",
      "[7] train-result=0.0909, valid-result=0.0929 [18.6 s]\n",
      "[8] train-result=0.0903, valid-result=0.0920 [18.3 s]\n",
      "[9] train-result=0.0895, valid-result=0.0919 [18.0 s]\n",
      "[10] train-result=0.0890, valid-result=0.0913 [17.8 s]\n",
      "[11] train-result=0.0894, valid-result=0.0917 [19.0 s]\n",
      "[12] train-result=0.0883, valid-result=0.0918 [18.3 s]\n",
      "[13] train-result=0.0884, valid-result=0.0914 [19.3 s]\n",
      "[14] train-result=0.0880, valid-result=0.0913 [18.2 s]\n",
      "[15] train-result=0.0879, valid-result=0.0911 [17.8 s]\n",
      "[16] train-result=0.0878, valid-result=0.0911 [17.9 s]\n",
      "[17] train-result=0.0875, valid-result=0.0917 [19.7 s]\n",
      "[18] train-result=0.0876, valid-result=0.0914 [18.0 s]\n",
      "[19] train-result=0.0874, valid-result=0.0916 [17.8 s]\n",
      "[20] train-result=0.0881, valid-result=0.0915 [18.2 s]\n"
     ]
    }
   ],
   "source": [
    "folds = list(KFold(n_splits=config.NUM_SPLITS,shuffle=True,random_state=config.RANDOM_SEED).split(dfTrain.values))\n",
    "_get = lambda x,l:[x[i] for i in l]\n",
    "\n",
    "y_test_meta = np.zeros((dfTest.shape[0], 1), dtype=float)\n",
    "\n",
    "for i,(train_idx, valid_idx) in enumerate(folds):\n",
    "    Xi_train_, Xv_train_, y_train_ = _get(Xi_train, train_idx), _get(Xv_train, train_idx), _get(y_train, train_idx)\n",
    "    Xi_valid_, Xv_valid_, y_valid_ = _get(Xi_train, valid_idx), _get(Xv_train, valid_idx), _get(y_train, valid_idx)\n",
    "\n",
    "    dfm = DeepFM(**dfm_params)\n",
    "    dfm.fit(Xi_train_, Xv_train_, y_train_, Xi_valid_, Xv_valid_, y_valid_)\n",
    "    \n",
    "    y_test_meta[:,0] += dfm.predict(Xi_test, Xv_test)\n",
    "    \n",
    "y_test_meta /= float(len(folds))    "
   ]
  },
  {
   "cell_type": "code",
   "execution_count": 12,
   "metadata": {},
   "outputs": [],
   "source": [
    "submit = pd.DataFrame({'instance_id':ids_test,'predicted_score':y_test_meta[:,0]})\n",
    "submit.to_csv('../../Submission/advertisement/FM_deep_0321.txt', sep=\" \", index=False, line_terminator='\\n')"
   ]
  },
  {
   "cell_type": "code",
   "execution_count": null,
   "metadata": {
    "collapsed": true
   },
   "outputs": [],
   "source": []
  },
  {
   "cell_type": "code",
   "execution_count": null,
   "metadata": {
    "collapsed": true
   },
   "outputs": [],
   "source": []
  },
  {
   "cell_type": "code",
   "execution_count": null,
   "metadata": {
    "collapsed": true
   },
   "outputs": [],
   "source": []
  },
  {
   "cell_type": "code",
   "execution_count": null,
   "metadata": {
    "collapsed": true
   },
   "outputs": [],
   "source": []
  },
  {
   "cell_type": "code",
   "execution_count": null,
   "metadata": {
    "collapsed": true
   },
   "outputs": [],
   "source": []
  },
  {
   "cell_type": "code",
   "execution_count": null,
   "metadata": {
    "collapsed": true
   },
   "outputs": [],
   "source": []
  },
  {
   "cell_type": "code",
   "execution_count": null,
   "metadata": {
    "collapsed": true
   },
   "outputs": [],
   "source": []
  }
 ],
 "metadata": {
  "kernelspec": {
   "display_name": "Python 3",
   "language": "python",
   "name": "python3"
  },
  "language_info": {
   "codemirror_mode": {
    "name": "ipython",
    "version": 3
   },
   "file_extension": ".py",
   "mimetype": "text/x-python",
   "name": "python",
   "nbconvert_exporter": "python",
   "pygments_lexer": "ipython3",
   "version": "3.6.3"
  }
 },
 "nbformat": 4,
 "nbformat_minor": 2
}
