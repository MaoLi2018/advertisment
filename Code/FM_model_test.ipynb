{
 "cells": [
  {
   "cell_type": "code",
   "execution_count": 1,
   "metadata": {
    "collapsed": true
   },
   "outputs": [],
   "source": [
    "import pandas as pd\n",
    "import numpy as np\n",
    "import time\n",
    "import sys\n",
    "sys.path.append('tools/tensorflow-DeepFM-master/')\n",
    "\n",
    "import config\n",
    "import DataReader\n",
    "from DeepFM import DeepFM\n",
    "\n",
    "\n",
    "\n",
    "\n",
    "import tensorflow as tf\n",
    "\n",
    "from sklearn.model_selection import KFold,StratifiedKFold\n",
    "from sklearn.metrics import log_loss,roc_auc_score\n"
   ]
  },
  {
   "cell_type": "markdown",
   "metadata": {},
   "source": [
    "<font color=#0099ff size=5 face=\"黑体\">固定函数</font>"
   ]
  },
  {
   "cell_type": "code",
   "execution_count": 2,
   "metadata": {
    "collapsed": true
   },
   "outputs": [],
   "source": [
    "def hour_ouput(value):\n",
    "    return time.localtime(value).tm_hour\n",
    "\n",
    "def day_ouput(value):\n",
    "    return time.localtime(value).tm_mday\n",
    "\n",
    "\n",
    "\n",
    "def process(df):\n",
    "    cols = [c for c in df.columns if c not in config.KEYS]\n",
    "    for i in range(1,3):\n",
    "        df['item_category_list_bin_%d'%i] = df['item_category_list'].apply(lambda x: x.split(';')[i] if len(x.split(';'))>i else -1)\n",
    "        \n",
    "        #df['item_property_list_bin_%d'%i] = df['item_property_list'].apply(lambda x: x.split(';')[i] if len(x.split(';'))>i else -1)\n",
    "        #df['item_property_list_bin_%d'%i] = df['item_property_list'].apply(lambda x: x.split(';')[i] if len(x.split(';'))>i else -1)\n",
    "    df['item_property_list'] = dfTrain['item_property_list'].apply(lambda x:';'.join(sorted(set(x.split(';')))))\n",
    "    df[\"missing_feat\"] = np.sum((df[cols] == -1).values, axis=1)\n",
    "    df['context_timestamp_hour'] = df['context_timestamp'].map(hour_ouput)\n",
    "    df['context_timestamp_day'] = df['context_timestamp'].map(day_ouput)\n",
    "    return df\n",
    "\n",
    "#def string_process(dfTrain,dfTest):\n",
    "    "
   ]
  },
  {
   "cell_type": "markdown",
   "metadata": {},
   "source": [
    "<font color=#0099ff size=5 face=\"黑体\">读取数据</font>"
   ]
  },
  {
   "cell_type": "code",
   "execution_count": 3,
   "metadata": {},
   "outputs": [
    {
     "data": {
      "text/plain": [
       "'TrainX = dfTrain[featInput].values\\nTestX = dfTest[featInput].values\\nTrainy = dfTrain[config.LABEL].values'"
      ]
     },
     "execution_count": 3,
     "metadata": {},
     "output_type": "execute_result"
    }
   ],
   "source": [
    "dfTrain = pd.read_table(config.TRAIN_FILE,sep=' ')\n",
    "dfTest = pd.read_table(config.TEST_FILE,sep=' ')\n",
    "\n",
    "dfTrain = process(dfTrain)\n",
    "dfTest = process(dfTest)\n",
    "\n",
    "\n",
    "featInput = [c for c in dfTrain.columns if c not in config.KEYS]\n",
    "featInput = [c for c in featInput if (not c in config.IGNORE_COLS)]\n",
    "\n",
    "'''TrainX = dfTrain[featInput].values\n",
    "TestX = dfTest[featInput].values\n",
    "Trainy = dfTrain[config.LABEL].values'''"
   ]
  },
  {
   "cell_type": "markdown",
   "metadata": {},
   "source": [
    "<font color=#0099ff size=5 face=\"黑体\">生成稀疏特征</font>"
   ]
  },
  {
   "cell_type": "code",
   "execution_count": 4,
   "metadata": {
    "collapsed": true
   },
   "outputs": [],
   "source": [
    "fd = DataReader.FeatureDictionary(dfTrain=dfTrain, dfTest=dfTest,\n",
    "                           numeric_cols=config.NUMERIC_COLS,\n",
    "                           ignore_cols=config.IGNORE_COLS,\n",
    "                           active_bound=1)\n",
    "data_parser = DataReader.DataParser(feat_dict=fd)\n",
    "Xi_train, Xv_train, y_train = data_parser.parse(df=dfTrain, has_label=True)\n",
    "#Xi_test, Xv_test, ids_test = data_parser.parse(df=dfTest)"
   ]
  },
  {
   "cell_type": "markdown",
   "metadata": {},
   "source": [
    "<font color=#0099ff size=5 face=\"黑体\">设置模型参数</font>"
   ]
  },
  {
   "cell_type": "code",
   "execution_count": 8,
   "metadata": {},
   "outputs": [
    {
     "name": "stdout",
     "output_type": "stream",
     "text": [
      "22405\n"
     ]
    }
   ],
   "source": [
    "dfm_params = {\n",
    "    \"use_fm\": True,\n",
    "    \"use_deep\": True,\n",
    "    \"embedding_size\": 8,\n",
    "    \"dropout_fm\": [1.0, 1.0],\n",
    "    \"deep_layers\": [32, 32],\n",
    "    \"dropout_deep\": [0.5, 0.5, 0.5],\n",
    "    \"deep_layers_activation\": tf.nn.relu,\n",
    "    \"epoch\": 20,\n",
    "    \"batch_size\": 2048,\n",
    "    \"learning_rate\": 0.1,\n",
    "    \"optimizer_type\": \"adam\",\n",
    "    \"batch_norm\": 1,\n",
    "    \"batch_norm_decay\": 0.995,\n",
    "    \"l2_reg\": 0.01,\n",
    "    \"verbose\": True,\n",
    "    \"eval_metric\": log_loss,\n",
    "    \"random_seed\": config.RANDOM_SEED\n",
    "}\n",
    "dfm_params[\"feature_size\"] = fd.feat_dim\n",
    "dfm_params[\"field_size\"] = len(Xi_train[0])\n",
    "print(dfm_params[\"feature_size\"])"
   ]
  },
  {
   "cell_type": "code",
   "execution_count": 9,
   "metadata": {
    "scrolled": true
   },
   "outputs": [
    {
     "name": "stdout",
     "output_type": "stream",
     "text": [
      "#params: 208942\n",
      "[1] train-result=0.0906, valid-result=0.0854 [20.4 s]\n",
      "[2] train-result=0.0877, valid-result=0.0865 [20.6 s]\n",
      "[3] train-result=0.0889, valid-result=0.0914 [20.4 s]\n",
      "[4] train-result=0.0915, valid-result=0.0914 [21.3 s]\n",
      "[5] train-result=0.0897, valid-result=0.0935 [21.0 s]\n"
     ]
    },
    {
     "name": "stderr",
     "output_type": "stream",
     "text": [
      "C:\\ProgramData\\Anaconda3\\lib\\site-packages\\sklearn\\metrics\\classification.py:1694: RuntimeWarning: divide by zero encountered in log\n",
      "  loss = -(transformed_labels * np.log(y_pred)).sum(axis=1)\n",
      "C:\\ProgramData\\Anaconda3\\lib\\site-packages\\sklearn\\metrics\\classification.py:1694: RuntimeWarning: invalid value encountered in multiply\n",
      "  loss = -(transformed_labels * np.log(y_pred)).sum(axis=1)\n"
     ]
    },
    {
     "name": "stdout",
     "output_type": "stream",
     "text": [
      "[6] train-result=nan, valid-result=0.0948 [20.4 s]\n",
      "[7] train-result=0.0916, valid-result=0.0930 [20.6 s]\n",
      "[8] train-result=0.0916, valid-result=0.0977 [20.9 s]\n",
      "[9] train-result=inf, valid-result=0.0983 [20.2 s]\n",
      "[10] train-result=0.0874, valid-result=0.0952 [20.4 s]\n",
      "[11] train-result=0.0886, valid-result=0.0931 [22.4 s]\n",
      "[12] train-result=0.0870, valid-result=0.0960 [20.3 s]\n",
      "[13] train-result=0.0864, valid-result=0.1003 [20.5 s]\n",
      "[14] train-result=0.0907, valid-result=0.1055 [20.7 s]\n",
      "[15] train-result=0.0895, valid-result=0.0999 [20.7 s]\n",
      "[16] train-result=0.0902, valid-result=0.0940 [20.6 s]\n",
      "[17] train-result=inf, valid-result=0.1105 [20.6 s]\n",
      "[18] train-result=nan, valid-result=inf [20.3 s]\n",
      "[19] train-result=inf, valid-result=0.5841 [20.5 s]\n",
      "[20] train-result=0.6609, valid-result=0.5841 [20.7 s]\n"
     ]
    }
   ],
   "source": [
    "###根据日期拆分训练集\n",
    "train_idx = dfTrain.loc[dfTrain['context_timestamp_day']<24].index\n",
    "valid_idx = dfTrain.loc[dfTrain['context_timestamp_day']==24].index\n",
    "\n",
    "#train_idx = list(train_idx)+appendList\n",
    "\n",
    "_get = lambda x,l:[x[i] for i in l]\n",
    "Xi_train_, Xv_train_, y_train_ = _get(Xi_train, train_idx), _get(Xv_train, train_idx), _get(y_train, train_idx)\n",
    "Xi_valid_, Xv_valid_, y_valid_ = _get(Xi_train, valid_idx), _get(Xv_train, valid_idx), _get(y_train, valid_idx)\n",
    "\n",
    "dfm = DeepFM(**dfm_params)\n",
    "dfm.fit(Xi_train_, Xv_train_, y_train_, Xi_valid_, Xv_valid_, y_valid_)"
   ]
  },
  {
   "cell_type": "code",
   "execution_count": null,
   "metadata": {
    "collapsed": true
   },
   "outputs": [],
   "source": [
    "result_valid_ = dfm.predict( Xi_valid_, Xv_valid_)\n",
    "print(log_loss(y_valid_, result_valid_))"
   ]
  },
  {
   "cell_type": "code",
   "execution_count": null,
   "metadata": {
    "collapsed": true
   },
   "outputs": [],
   "source": [
    "df = pd.DataFrame({'target':y_valid_,'score':result_valid_})\n",
    "df['score'].max()"
   ]
  },
  {
   "cell_type": "code",
   "execution_count": null,
   "metadata": {
    "collapsed": true
   },
   "outputs": [],
   "source": [
    "df.sort_values('score',ascending=False,inplace=True)\n",
    "df.reset_index(inplace=True)"
   ]
  },
  {
   "cell_type": "code",
   "execution_count": null,
   "metadata": {
    "collapsed": true
   },
   "outputs": [],
   "source": [
    "df.iloc[:20,1].mean()"
   ]
  },
  {
   "cell_type": "code",
   "execution_count": null,
   "metadata": {
    "collapsed": true
   },
   "outputs": [],
   "source": [
    "y_test_meta = np.zeros((dfTest.shape[0], 1), dtype=float)\n",
    "y_test_meta[:,0] += dfm.predict(Xi_test, Xv_test)"
   ]
  },
  {
   "cell_type": "code",
   "execution_count": null,
   "metadata": {
    "collapsed": true
   },
   "outputs": [],
   "source": []
  },
  {
   "cell_type": "code",
   "execution_count": null,
   "metadata": {
    "collapsed": true
   },
   "outputs": [],
   "source": [
    "y_test_meta = np.zeros((dfTest.shape[0], 1), dtype=float)\n",
    "y_test_meta[:,0] += dfm.predict(Xi_test, Xv_test)\n",
    "y_test_meta[:,0].max()"
   ]
  },
  {
   "cell_type": "code",
   "execution_count": null,
   "metadata": {
    "collapsed": true,
    "scrolled": true
   },
   "outputs": [],
   "source": [
    "folds = list(KFold(n_splits=config.NUM_SPLITS,shuffle=True,random_state=config.RANDOM_SEED).split(dfTrain.values))\n",
    "_get = lambda x,l:[x[i] for i in l]\n",
    "\n",
    "y_test_meta = np.zeros((dfTest.shape[0], 1), dtype=float)\n",
    "\n",
    "for i,(train_idx, valid_idx) in enumerate(folds):\n",
    "    Xi_train_, Xv_train_, y_train_ = _get(Xi_train, train_idx), _get(Xv_train, train_idx), _get(y_train, train_idx)\n",
    "    Xi_valid_, Xv_valid_, y_valid_ = _get(Xi_train, valid_idx), _get(Xv_train, valid_idx), _get(y_train, valid_idx)\n",
    "\n",
    "    dfm = DeepFM(**dfm_params)\n",
    "    dfm.fit(Xi_train_, Xv_train_, y_train_, Xi_valid_, Xv_valid_, y_valid_)\n",
    "    \n",
    "    y_test_meta[:,0] += dfm.predict(Xi_test, Xv_test)\n",
    "    \n",
    "y_test_meta /= float(len(folds))    "
   ]
  },
  {
   "cell_type": "code",
   "execution_count": null,
   "metadata": {
    "collapsed": true
   },
   "outputs": [],
   "source": [
    "submit = pd.DataFrame({'instance_id':ids_test,'predicted_score':y_test_meta[:,0]})\n",
    "submit.to_csv('../../Submission/advertisement/FM_deep_0322.txt', sep=\" \", index=False, line_terminator='\\n')"
   ]
  },
  {
   "cell_type": "code",
   "execution_count": null,
   "metadata": {
    "collapsed": true
   },
   "outputs": [],
   "source": [
    "submit['predicted_score'].describe()"
   ]
  },
  {
   "cell_type": "code",
   "execution_count": null,
   "metadata": {
    "collapsed": true
   },
   "outputs": [],
   "source": [
    "np.log(0.9058)"
   ]
  },
  {
   "cell_type": "code",
   "execution_count": null,
   "metadata": {
    "collapsed": true
   },
   "outputs": [],
   "source": [
    "2.15/18371\n"
   ]
  },
  {
   "cell_type": "code",
   "execution_count": null,
   "metadata": {
    "collapsed": true
   },
   "outputs": [],
   "source": [
    "submit.shape"
   ]
  },
  {
   "cell_type": "code",
   "execution_count": null,
   "metadata": {
    "collapsed": true
   },
   "outputs": [],
   "source": []
  },
  {
   "cell_type": "code",
   "execution_count": null,
   "metadata": {
    "collapsed": true
   },
   "outputs": [],
   "source": []
  },
  {
   "cell_type": "code",
   "execution_count": null,
   "metadata": {
    "collapsed": true
   },
   "outputs": [],
   "source": []
  }
 ],
 "metadata": {
  "kernelspec": {
   "display_name": "Python 3",
   "language": "python",
   "name": "python3"
  },
  "language_info": {
   "codemirror_mode": {
    "name": "ipython",
    "version": 3
   },
   "file_extension": ".py",
   "mimetype": "text/x-python",
   "name": "python",
   "nbconvert_exporter": "python",
   "pygments_lexer": "ipython3",
   "version": "3.6.3"
  }
 },
 "nbformat": 4,
 "nbformat_minor": 2
}
